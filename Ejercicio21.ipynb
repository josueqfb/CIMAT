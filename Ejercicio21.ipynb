{
 "cells": [
  {
   "cell_type": "markdown",
   "id": "e3aa8b2a",
   "metadata": {},
   "source": [
    "## Cargamos el script proporcionado. "
   ]
  },
  {
   "cell_type": "code",
   "execution_count": 1,
   "id": "26a5ba0e",
   "metadata": {},
   "outputs": [],
   "source": [
    "import numpy as np\n",
    "%matplotlib inline  \n",
    "\n",
    "from numpy import *\n",
    "from numpy.linalg import norm\n",
    "\n",
    "from mpl_toolkits.mplot3d import Axes3D\n",
    "from matplotlib import cm\n",
    "from matplotlib.ticker import LinearLocator, FormatStrFormatter\n",
    "from matplotlib.pyplot import *\n",
    "from numpy import *\n",
    "\n",
    "def gradiente_descendente(grad, x0, step_length = (1/3), tol = 1e-6, max_iter = 200, return_history = False):\n",
    "  # Convertir el punto de inicio en un arreglo de numpy.\n",
    "  x = np.array(x0, dtype = float)\n",
    "  if return_history:\n",
    "    # Crear arreglo donde se almacenará el histórico de las iteraciones\n",
    "    x_t = x[None, :].copy()\n",
    "  # Calcular el gradiente y asegurarse que es un arreglo.\n",
    "  grad_x = np.array(grad(x))\n",
    "  iter_ = 0\n",
    "  # Verificar si se cumple el criterio de parada.\n",
    "  stop = (np.dot(grad_x, grad_x) < tol) or (iter_ > max_iter)\n",
    "  # Proceso iterativo.\n",
    "  while not stop:\n",
    "    # Incrementar el contador de iteraciones.\n",
    "    iter_ += 1\n",
    "    # Actualizar la posición del vector x\n",
    "    x -= (step_length * grad_x)\n",
    "    if return_history:\n",
    "      # Guardar el nuevo punto en el histórico de las iteraciones\n",
    "      x_t = np.append(x_t, x[None, :], axis = 0)\n",
    "    # Calcular el gradiente en la nueva posición.\n",
    "    grad_x = np.array(grad(x))\n",
    "    # Verificar la condición de paro.\n",
    "    stop = (np.dot(grad_x, grad_x) < tol) or (iter_ > max_iter)\n",
    "  # Regresar la solución óptima.\n",
    "  return x if not return_history else (x, x_t)\n",
    "\n"
   ]
  },
  {
   "cell_type": "markdown",
   "id": "243fc797",
   "metadata": {},
   "source": [
    "## Vamos a graficar la función en sí misma,  en un gráfico interactivo "
   ]
  },
  {
   "cell_type": "code",
   "execution_count": 3,
   "id": "834b899e",
   "metadata": {},
   "outputs": [
    {
     "data": {
      "application/vnd.plotly.v1+json": {
       "config": {
        "plotlyServerURL": "https://plot.ly"
       },
       "data": [
        {
         "type": "surface",
         "x": [
          0,
          0.1111111111111111,
          0.2222222222222222,
          0.3333333333333333,
          0.4444444444444444,
          0.5555555555555556,
          0.6666666666666666,
          0.7777777777777777,
          0.8888888888888888,
          1
         ],
         "y": [
          0,
          0.1111111111111111,
          0.2222222222222222,
          0.3333333333333333,
          0.4444444444444444,
          0.5555555555555556,
          0.6666666666666666,
          0.7777777777777777,
          0.8888888888888888,
          1
         ],
         "z": [
          [
           51.25,
           38,
           27.75,
           20.5,
           16.25,
           15,
           16.75,
           21.5,
           29.25,
           40
          ],
          [
           49.25,
           35,
           23.75,
           15.5,
           10.25,
           8,
           8.75,
           12.5,
           19.25,
           29
          ],
          [
           49.25,
           34,
           21.75,
           12.5,
           6.25,
           3,
           2.75,
           5.5,
           11.25,
           20
          ],
          [
           51.25,
           35,
           21.75,
           11.5,
           4.25,
           0,
           -1.25,
           0.5,
           5.25,
           13
          ],
          [
           55.25,
           38,
           23.75,
           12.5,
           4.25,
           -1,
           -3.25,
           -2.5,
           1.25,
           8
          ],
          [
           61.25,
           43,
           27.75,
           15.5,
           6.25,
           0,
           -3.25,
           -3.5,
           -0.75,
           5
          ],
          [
           69.25,
           50,
           33.75,
           20.5,
           10.25,
           3,
           -1.25,
           -2.5,
           -0.75,
           4
          ],
          [
           79.25,
           59,
           41.75,
           27.5,
           16.25,
           8,
           2.75,
           0.5,
           1.25,
           5
          ],
          [
           91.25,
           70,
           51.75,
           36.5,
           24.25,
           15,
           8.75,
           5.5,
           5.25,
           8
          ],
          [
           105.25,
           83,
           63.75,
           47.5,
           34.25,
           24,
           16.75,
           12.5,
           11.25,
           13
          ]
         ]
        }
       ],
       "layout": {
        "autosize": false,
        "height": 600,
        "margin": {
         "b": 65,
         "l": 65,
         "r": 50,
         "t": 90
        },
        "template": {
         "data": {
          "bar": [
           {
            "error_x": {
             "color": "#2a3f5f"
            },
            "error_y": {
             "color": "#2a3f5f"
            },
            "marker": {
             "line": {
              "color": "#E5ECF6",
              "width": 0.5
             },
             "pattern": {
              "fillmode": "overlay",
              "size": 10,
              "solidity": 0.2
             }
            },
            "type": "bar"
           }
          ],
          "barpolar": [
           {
            "marker": {
             "line": {
              "color": "#E5ECF6",
              "width": 0.5
             },
             "pattern": {
              "fillmode": "overlay",
              "size": 10,
              "solidity": 0.2
             }
            },
            "type": "barpolar"
           }
          ],
          "carpet": [
           {
            "aaxis": {
             "endlinecolor": "#2a3f5f",
             "gridcolor": "white",
             "linecolor": "white",
             "minorgridcolor": "white",
             "startlinecolor": "#2a3f5f"
            },
            "baxis": {
             "endlinecolor": "#2a3f5f",
             "gridcolor": "white",
             "linecolor": "white",
             "minorgridcolor": "white",
             "startlinecolor": "#2a3f5f"
            },
            "type": "carpet"
           }
          ],
          "choropleth": [
           {
            "colorbar": {
             "outlinewidth": 0,
             "ticks": ""
            },
            "type": "choropleth"
           }
          ],
          "contour": [
           {
            "colorbar": {
             "outlinewidth": 0,
             "ticks": ""
            },
            "colorscale": [
             [
              0,
              "#0d0887"
             ],
             [
              0.1111111111111111,
              "#46039f"
             ],
             [
              0.2222222222222222,
              "#7201a8"
             ],
             [
              0.3333333333333333,
              "#9c179e"
             ],
             [
              0.4444444444444444,
              "#bd3786"
             ],
             [
              0.5555555555555556,
              "#d8576b"
             ],
             [
              0.6666666666666666,
              "#ed7953"
             ],
             [
              0.7777777777777778,
              "#fb9f3a"
             ],
             [
              0.8888888888888888,
              "#fdca26"
             ],
             [
              1,
              "#f0f921"
             ]
            ],
            "type": "contour"
           }
          ],
          "contourcarpet": [
           {
            "colorbar": {
             "outlinewidth": 0,
             "ticks": ""
            },
            "type": "contourcarpet"
           }
          ],
          "heatmap": [
           {
            "colorbar": {
             "outlinewidth": 0,
             "ticks": ""
            },
            "colorscale": [
             [
              0,
              "#0d0887"
             ],
             [
              0.1111111111111111,
              "#46039f"
             ],
             [
              0.2222222222222222,
              "#7201a8"
             ],
             [
              0.3333333333333333,
              "#9c179e"
             ],
             [
              0.4444444444444444,
              "#bd3786"
             ],
             [
              0.5555555555555556,
              "#d8576b"
             ],
             [
              0.6666666666666666,
              "#ed7953"
             ],
             [
              0.7777777777777778,
              "#fb9f3a"
             ],
             [
              0.8888888888888888,
              "#fdca26"
             ],
             [
              1,
              "#f0f921"
             ]
            ],
            "type": "heatmap"
           }
          ],
          "heatmapgl": [
           {
            "colorbar": {
             "outlinewidth": 0,
             "ticks": ""
            },
            "colorscale": [
             [
              0,
              "#0d0887"
             ],
             [
              0.1111111111111111,
              "#46039f"
             ],
             [
              0.2222222222222222,
              "#7201a8"
             ],
             [
              0.3333333333333333,
              "#9c179e"
             ],
             [
              0.4444444444444444,
              "#bd3786"
             ],
             [
              0.5555555555555556,
              "#d8576b"
             ],
             [
              0.6666666666666666,
              "#ed7953"
             ],
             [
              0.7777777777777778,
              "#fb9f3a"
             ],
             [
              0.8888888888888888,
              "#fdca26"
             ],
             [
              1,
              "#f0f921"
             ]
            ],
            "type": "heatmapgl"
           }
          ],
          "histogram": [
           {
            "marker": {
             "pattern": {
              "fillmode": "overlay",
              "size": 10,
              "solidity": 0.2
             }
            },
            "type": "histogram"
           }
          ],
          "histogram2d": [
           {
            "colorbar": {
             "outlinewidth": 0,
             "ticks": ""
            },
            "colorscale": [
             [
              0,
              "#0d0887"
             ],
             [
              0.1111111111111111,
              "#46039f"
             ],
             [
              0.2222222222222222,
              "#7201a8"
             ],
             [
              0.3333333333333333,
              "#9c179e"
             ],
             [
              0.4444444444444444,
              "#bd3786"
             ],
             [
              0.5555555555555556,
              "#d8576b"
             ],
             [
              0.6666666666666666,
              "#ed7953"
             ],
             [
              0.7777777777777778,
              "#fb9f3a"
             ],
             [
              0.8888888888888888,
              "#fdca26"
             ],
             [
              1,
              "#f0f921"
             ]
            ],
            "type": "histogram2d"
           }
          ],
          "histogram2dcontour": [
           {
            "colorbar": {
             "outlinewidth": 0,
             "ticks": ""
            },
            "colorscale": [
             [
              0,
              "#0d0887"
             ],
             [
              0.1111111111111111,
              "#46039f"
             ],
             [
              0.2222222222222222,
              "#7201a8"
             ],
             [
              0.3333333333333333,
              "#9c179e"
             ],
             [
              0.4444444444444444,
              "#bd3786"
             ],
             [
              0.5555555555555556,
              "#d8576b"
             ],
             [
              0.6666666666666666,
              "#ed7953"
             ],
             [
              0.7777777777777778,
              "#fb9f3a"
             ],
             [
              0.8888888888888888,
              "#fdca26"
             ],
             [
              1,
              "#f0f921"
             ]
            ],
            "type": "histogram2dcontour"
           }
          ],
          "mesh3d": [
           {
            "colorbar": {
             "outlinewidth": 0,
             "ticks": ""
            },
            "type": "mesh3d"
           }
          ],
          "parcoords": [
           {
            "line": {
             "colorbar": {
              "outlinewidth": 0,
              "ticks": ""
             }
            },
            "type": "parcoords"
           }
          ],
          "pie": [
           {
            "automargin": true,
            "type": "pie"
           }
          ],
          "scatter": [
           {
            "marker": {
             "colorbar": {
              "outlinewidth": 0,
              "ticks": ""
             }
            },
            "type": "scatter"
           }
          ],
          "scatter3d": [
           {
            "line": {
             "colorbar": {
              "outlinewidth": 0,
              "ticks": ""
             }
            },
            "marker": {
             "colorbar": {
              "outlinewidth": 0,
              "ticks": ""
             }
            },
            "type": "scatter3d"
           }
          ],
          "scattercarpet": [
           {
            "marker": {
             "colorbar": {
              "outlinewidth": 0,
              "ticks": ""
             }
            },
            "type": "scattercarpet"
           }
          ],
          "scattergeo": [
           {
            "marker": {
             "colorbar": {
              "outlinewidth": 0,
              "ticks": ""
             }
            },
            "type": "scattergeo"
           }
          ],
          "scattergl": [
           {
            "marker": {
             "colorbar": {
              "outlinewidth": 0,
              "ticks": ""
             }
            },
            "type": "scattergl"
           }
          ],
          "scattermapbox": [
           {
            "marker": {
             "colorbar": {
              "outlinewidth": 0,
              "ticks": ""
             }
            },
            "type": "scattermapbox"
           }
          ],
          "scatterpolar": [
           {
            "marker": {
             "colorbar": {
              "outlinewidth": 0,
              "ticks": ""
             }
            },
            "type": "scatterpolar"
           }
          ],
          "scatterpolargl": [
           {
            "marker": {
             "colorbar": {
              "outlinewidth": 0,
              "ticks": ""
             }
            },
            "type": "scatterpolargl"
           }
          ],
          "scatterternary": [
           {
            "marker": {
             "colorbar": {
              "outlinewidth": 0,
              "ticks": ""
             }
            },
            "type": "scatterternary"
           }
          ],
          "surface": [
           {
            "colorbar": {
             "outlinewidth": 0,
             "ticks": ""
            },
            "colorscale": [
             [
              0,
              "#0d0887"
             ],
             [
              0.1111111111111111,
              "#46039f"
             ],
             [
              0.2222222222222222,
              "#7201a8"
             ],
             [
              0.3333333333333333,
              "#9c179e"
             ],
             [
              0.4444444444444444,
              "#bd3786"
             ],
             [
              0.5555555555555556,
              "#d8576b"
             ],
             [
              0.6666666666666666,
              "#ed7953"
             ],
             [
              0.7777777777777778,
              "#fb9f3a"
             ],
             [
              0.8888888888888888,
              "#fdca26"
             ],
             [
              1,
              "#f0f921"
             ]
            ],
            "type": "surface"
           }
          ],
          "table": [
           {
            "cells": {
             "fill": {
              "color": "#EBF0F8"
             },
             "line": {
              "color": "white"
             }
            },
            "header": {
             "fill": {
              "color": "#C8D4E3"
             },
             "line": {
              "color": "white"
             }
            },
            "type": "table"
           }
          ]
         },
         "layout": {
          "annotationdefaults": {
           "arrowcolor": "#2a3f5f",
           "arrowhead": 0,
           "arrowwidth": 1
          },
          "autotypenumbers": "strict",
          "coloraxis": {
           "colorbar": {
            "outlinewidth": 0,
            "ticks": ""
           }
          },
          "colorscale": {
           "diverging": [
            [
             0,
             "#8e0152"
            ],
            [
             0.1,
             "#c51b7d"
            ],
            [
             0.2,
             "#de77ae"
            ],
            [
             0.3,
             "#f1b6da"
            ],
            [
             0.4,
             "#fde0ef"
            ],
            [
             0.5,
             "#f7f7f7"
            ],
            [
             0.6,
             "#e6f5d0"
            ],
            [
             0.7,
             "#b8e186"
            ],
            [
             0.8,
             "#7fbc41"
            ],
            [
             0.9,
             "#4d9221"
            ],
            [
             1,
             "#276419"
            ]
           ],
           "sequential": [
            [
             0,
             "#0d0887"
            ],
            [
             0.1111111111111111,
             "#46039f"
            ],
            [
             0.2222222222222222,
             "#7201a8"
            ],
            [
             0.3333333333333333,
             "#9c179e"
            ],
            [
             0.4444444444444444,
             "#bd3786"
            ],
            [
             0.5555555555555556,
             "#d8576b"
            ],
            [
             0.6666666666666666,
             "#ed7953"
            ],
            [
             0.7777777777777778,
             "#fb9f3a"
            ],
            [
             0.8888888888888888,
             "#fdca26"
            ],
            [
             1,
             "#f0f921"
            ]
           ],
           "sequentialminus": [
            [
             0,
             "#0d0887"
            ],
            [
             0.1111111111111111,
             "#46039f"
            ],
            [
             0.2222222222222222,
             "#7201a8"
            ],
            [
             0.3333333333333333,
             "#9c179e"
            ],
            [
             0.4444444444444444,
             "#bd3786"
            ],
            [
             0.5555555555555556,
             "#d8576b"
            ],
            [
             0.6666666666666666,
             "#ed7953"
            ],
            [
             0.7777777777777778,
             "#fb9f3a"
            ],
            [
             0.8888888888888888,
             "#fdca26"
            ],
            [
             1,
             "#f0f921"
            ]
           ]
          },
          "colorway": [
           "#636efa",
           "#EF553B",
           "#00cc96",
           "#ab63fa",
           "#FFA15A",
           "#19d3f3",
           "#FF6692",
           "#B6E880",
           "#FF97FF",
           "#FECB52"
          ],
          "font": {
           "color": "#2a3f5f"
          },
          "geo": {
           "bgcolor": "white",
           "lakecolor": "white",
           "landcolor": "#E5ECF6",
           "showlakes": true,
           "showland": true,
           "subunitcolor": "white"
          },
          "hoverlabel": {
           "align": "left"
          },
          "hovermode": "closest",
          "mapbox": {
           "style": "light"
          },
          "paper_bgcolor": "white",
          "plot_bgcolor": "#E5ECF6",
          "polar": {
           "angularaxis": {
            "gridcolor": "white",
            "linecolor": "white",
            "ticks": ""
           },
           "bgcolor": "#E5ECF6",
           "radialaxis": {
            "gridcolor": "white",
            "linecolor": "white",
            "ticks": ""
           }
          },
          "scene": {
           "xaxis": {
            "backgroundcolor": "#E5ECF6",
            "gridcolor": "white",
            "gridwidth": 2,
            "linecolor": "white",
            "showbackground": true,
            "ticks": "",
            "zerolinecolor": "white"
           },
           "yaxis": {
            "backgroundcolor": "#E5ECF6",
            "gridcolor": "white",
            "gridwidth": 2,
            "linecolor": "white",
            "showbackground": true,
            "ticks": "",
            "zerolinecolor": "white"
           },
           "zaxis": {
            "backgroundcolor": "#E5ECF6",
            "gridcolor": "white",
            "gridwidth": 2,
            "linecolor": "white",
            "showbackground": true,
            "ticks": "",
            "zerolinecolor": "white"
           }
          },
          "shapedefaults": {
           "line": {
            "color": "#2a3f5f"
           }
          },
          "ternary": {
           "aaxis": {
            "gridcolor": "white",
            "linecolor": "white",
            "ticks": ""
           },
           "baxis": {
            "gridcolor": "white",
            "linecolor": "white",
            "ticks": ""
           },
           "bgcolor": "#E5ECF6",
           "caxis": {
            "gridcolor": "white",
            "linecolor": "white",
            "ticks": ""
           }
          },
          "title": {
           "x": 0.05
          },
          "xaxis": {
           "automargin": true,
           "gridcolor": "white",
           "linecolor": "white",
           "ticks": "",
           "title": {
            "standoff": 15
           },
           "zerolinecolor": "white",
           "zerolinewidth": 2
          },
          "yaxis": {
           "automargin": true,
           "gridcolor": "white",
           "linecolor": "white",
           "ticks": "",
           "title": {
            "standoff": 15
           },
           "zerolinecolor": "white",
           "zerolinewidth": 2
          }
         }
        },
        "title": {
         "text": "Gráfica interactiva en 3D"
        },
        "width": 600
       }
      },
      "text/html": [
       "<div>                            <div id=\"71c6aa14-5804-4d0d-bf00-41ac1ec98c14\" class=\"plotly-graph-div\" style=\"height:600px; width:600px;\"></div>            <script type=\"text/javascript\">                require([\"plotly\"], function(Plotly) {                    window.PLOTLYENV=window.PLOTLYENV || {};                                    if (document.getElementById(\"71c6aa14-5804-4d0d-bf00-41ac1ec98c14\")) {                    Plotly.newPlot(                        \"71c6aa14-5804-4d0d-bf00-41ac1ec98c14\",                        [{\"x\":[0.0,0.1111111111111111,0.2222222222222222,0.3333333333333333,0.4444444444444444,0.5555555555555556,0.6666666666666666,0.7777777777777777,0.8888888888888888,1.0],\"y\":[0.0,0.1111111111111111,0.2222222222222222,0.3333333333333333,0.4444444444444444,0.5555555555555556,0.6666666666666666,0.7777777777777777,0.8888888888888888,1.0],\"z\":[[51.25,38.0,27.75,20.5,16.25,15.0,16.75,21.5,29.25,40.0],[49.25,35.0,23.75,15.5,10.25,8.0,8.75,12.5,19.25,29.0],[49.25,34.0,21.75,12.5,6.25,3.0,2.75,5.5,11.25,20.0],[51.25,35.0,21.75,11.5,4.25,0.0,-1.25,0.5,5.25,13.0],[55.25,38.0,23.75,12.5,4.25,-1.0,-3.25,-2.5,1.25,8.0],[61.25,43.0,27.75,15.5,6.25,0.0,-3.25,-3.5,-0.75,5.0],[69.25,50.0,33.75,20.5,10.25,3.0,-1.25,-2.5,-0.75,4.0],[79.25,59.0,41.75,27.5,16.25,8.0,2.75,0.5,1.25,5.0],[91.25,70.0,51.75,36.5,24.25,15.0,8.75,5.5,5.25,8.0],[105.25,83.0,63.75,47.5,34.25,24.0,16.75,12.5,11.25,13.0]],\"type\":\"surface\"}],                        {\"template\":{\"data\":{\"bar\":[{\"error_x\":{\"color\":\"#2a3f5f\"},\"error_y\":{\"color\":\"#2a3f5f\"},\"marker\":{\"line\":{\"color\":\"#E5ECF6\",\"width\":0.5},\"pattern\":{\"fillmode\":\"overlay\",\"size\":10,\"solidity\":0.2}},\"type\":\"bar\"}],\"barpolar\":[{\"marker\":{\"line\":{\"color\":\"#E5ECF6\",\"width\":0.5},\"pattern\":{\"fillmode\":\"overlay\",\"size\":10,\"solidity\":0.2}},\"type\":\"barpolar\"}],\"carpet\":[{\"aaxis\":{\"endlinecolor\":\"#2a3f5f\",\"gridcolor\":\"white\",\"linecolor\":\"white\",\"minorgridcolor\":\"white\",\"startlinecolor\":\"#2a3f5f\"},\"baxis\":{\"endlinecolor\":\"#2a3f5f\",\"gridcolor\":\"white\",\"linecolor\":\"white\",\"minorgridcolor\":\"white\",\"startlinecolor\":\"#2a3f5f\"},\"type\":\"carpet\"}],\"choropleth\":[{\"colorbar\":{\"outlinewidth\":0,\"ticks\":\"\"},\"type\":\"choropleth\"}],\"contour\":[{\"colorbar\":{\"outlinewidth\":0,\"ticks\":\"\"},\"colorscale\":[[0.0,\"#0d0887\"],[0.1111111111111111,\"#46039f\"],[0.2222222222222222,\"#7201a8\"],[0.3333333333333333,\"#9c179e\"],[0.4444444444444444,\"#bd3786\"],[0.5555555555555556,\"#d8576b\"],[0.6666666666666666,\"#ed7953\"],[0.7777777777777778,\"#fb9f3a\"],[0.8888888888888888,\"#fdca26\"],[1.0,\"#f0f921\"]],\"type\":\"contour\"}],\"contourcarpet\":[{\"colorbar\":{\"outlinewidth\":0,\"ticks\":\"\"},\"type\":\"contourcarpet\"}],\"heatmap\":[{\"colorbar\":{\"outlinewidth\":0,\"ticks\":\"\"},\"colorscale\":[[0.0,\"#0d0887\"],[0.1111111111111111,\"#46039f\"],[0.2222222222222222,\"#7201a8\"],[0.3333333333333333,\"#9c179e\"],[0.4444444444444444,\"#bd3786\"],[0.5555555555555556,\"#d8576b\"],[0.6666666666666666,\"#ed7953\"],[0.7777777777777778,\"#fb9f3a\"],[0.8888888888888888,\"#fdca26\"],[1.0,\"#f0f921\"]],\"type\":\"heatmap\"}],\"heatmapgl\":[{\"colorbar\":{\"outlinewidth\":0,\"ticks\":\"\"},\"colorscale\":[[0.0,\"#0d0887\"],[0.1111111111111111,\"#46039f\"],[0.2222222222222222,\"#7201a8\"],[0.3333333333333333,\"#9c179e\"],[0.4444444444444444,\"#bd3786\"],[0.5555555555555556,\"#d8576b\"],[0.6666666666666666,\"#ed7953\"],[0.7777777777777778,\"#fb9f3a\"],[0.8888888888888888,\"#fdca26\"],[1.0,\"#f0f921\"]],\"type\":\"heatmapgl\"}],\"histogram\":[{\"marker\":{\"pattern\":{\"fillmode\":\"overlay\",\"size\":10,\"solidity\":0.2}},\"type\":\"histogram\"}],\"histogram2d\":[{\"colorbar\":{\"outlinewidth\":0,\"ticks\":\"\"},\"colorscale\":[[0.0,\"#0d0887\"],[0.1111111111111111,\"#46039f\"],[0.2222222222222222,\"#7201a8\"],[0.3333333333333333,\"#9c179e\"],[0.4444444444444444,\"#bd3786\"],[0.5555555555555556,\"#d8576b\"],[0.6666666666666666,\"#ed7953\"],[0.7777777777777778,\"#fb9f3a\"],[0.8888888888888888,\"#fdca26\"],[1.0,\"#f0f921\"]],\"type\":\"histogram2d\"}],\"histogram2dcontour\":[{\"colorbar\":{\"outlinewidth\":0,\"ticks\":\"\"},\"colorscale\":[[0.0,\"#0d0887\"],[0.1111111111111111,\"#46039f\"],[0.2222222222222222,\"#7201a8\"],[0.3333333333333333,\"#9c179e\"],[0.4444444444444444,\"#bd3786\"],[0.5555555555555556,\"#d8576b\"],[0.6666666666666666,\"#ed7953\"],[0.7777777777777778,\"#fb9f3a\"],[0.8888888888888888,\"#fdca26\"],[1.0,\"#f0f921\"]],\"type\":\"histogram2dcontour\"}],\"mesh3d\":[{\"colorbar\":{\"outlinewidth\":0,\"ticks\":\"\"},\"type\":\"mesh3d\"}],\"parcoords\":[{\"line\":{\"colorbar\":{\"outlinewidth\":0,\"ticks\":\"\"}},\"type\":\"parcoords\"}],\"pie\":[{\"automargin\":true,\"type\":\"pie\"}],\"scatter\":[{\"marker\":{\"colorbar\":{\"outlinewidth\":0,\"ticks\":\"\"}},\"type\":\"scatter\"}],\"scatter3d\":[{\"line\":{\"colorbar\":{\"outlinewidth\":0,\"ticks\":\"\"}},\"marker\":{\"colorbar\":{\"outlinewidth\":0,\"ticks\":\"\"}},\"type\":\"scatter3d\"}],\"scattercarpet\":[{\"marker\":{\"colorbar\":{\"outlinewidth\":0,\"ticks\":\"\"}},\"type\":\"scattercarpet\"}],\"scattergeo\":[{\"marker\":{\"colorbar\":{\"outlinewidth\":0,\"ticks\":\"\"}},\"type\":\"scattergeo\"}],\"scattergl\":[{\"marker\":{\"colorbar\":{\"outlinewidth\":0,\"ticks\":\"\"}},\"type\":\"scattergl\"}],\"scattermapbox\":[{\"marker\":{\"colorbar\":{\"outlinewidth\":0,\"ticks\":\"\"}},\"type\":\"scattermapbox\"}],\"scatterpolar\":[{\"marker\":{\"colorbar\":{\"outlinewidth\":0,\"ticks\":\"\"}},\"type\":\"scatterpolar\"}],\"scatterpolargl\":[{\"marker\":{\"colorbar\":{\"outlinewidth\":0,\"ticks\":\"\"}},\"type\":\"scatterpolargl\"}],\"scatterternary\":[{\"marker\":{\"colorbar\":{\"outlinewidth\":0,\"ticks\":\"\"}},\"type\":\"scatterternary\"}],\"surface\":[{\"colorbar\":{\"outlinewidth\":0,\"ticks\":\"\"},\"colorscale\":[[0.0,\"#0d0887\"],[0.1111111111111111,\"#46039f\"],[0.2222222222222222,\"#7201a8\"],[0.3333333333333333,\"#9c179e\"],[0.4444444444444444,\"#bd3786\"],[0.5555555555555556,\"#d8576b\"],[0.6666666666666666,\"#ed7953\"],[0.7777777777777778,\"#fb9f3a\"],[0.8888888888888888,\"#fdca26\"],[1.0,\"#f0f921\"]],\"type\":\"surface\"}],\"table\":[{\"cells\":{\"fill\":{\"color\":\"#EBF0F8\"},\"line\":{\"color\":\"white\"}},\"header\":{\"fill\":{\"color\":\"#C8D4E3\"},\"line\":{\"color\":\"white\"}},\"type\":\"table\"}]},\"layout\":{\"annotationdefaults\":{\"arrowcolor\":\"#2a3f5f\",\"arrowhead\":0,\"arrowwidth\":1},\"autotypenumbers\":\"strict\",\"coloraxis\":{\"colorbar\":{\"outlinewidth\":0,\"ticks\":\"\"}},\"colorscale\":{\"diverging\":[[0,\"#8e0152\"],[0.1,\"#c51b7d\"],[0.2,\"#de77ae\"],[0.3,\"#f1b6da\"],[0.4,\"#fde0ef\"],[0.5,\"#f7f7f7\"],[0.6,\"#e6f5d0\"],[0.7,\"#b8e186\"],[0.8,\"#7fbc41\"],[0.9,\"#4d9221\"],[1,\"#276419\"]],\"sequential\":[[0.0,\"#0d0887\"],[0.1111111111111111,\"#46039f\"],[0.2222222222222222,\"#7201a8\"],[0.3333333333333333,\"#9c179e\"],[0.4444444444444444,\"#bd3786\"],[0.5555555555555556,\"#d8576b\"],[0.6666666666666666,\"#ed7953\"],[0.7777777777777778,\"#fb9f3a\"],[0.8888888888888888,\"#fdca26\"],[1.0,\"#f0f921\"]],\"sequentialminus\":[[0.0,\"#0d0887\"],[0.1111111111111111,\"#46039f\"],[0.2222222222222222,\"#7201a8\"],[0.3333333333333333,\"#9c179e\"],[0.4444444444444444,\"#bd3786\"],[0.5555555555555556,\"#d8576b\"],[0.6666666666666666,\"#ed7953\"],[0.7777777777777778,\"#fb9f3a\"],[0.8888888888888888,\"#fdca26\"],[1.0,\"#f0f921\"]]},\"colorway\":[\"#636efa\",\"#EF553B\",\"#00cc96\",\"#ab63fa\",\"#FFA15A\",\"#19d3f3\",\"#FF6692\",\"#B6E880\",\"#FF97FF\",\"#FECB52\"],\"font\":{\"color\":\"#2a3f5f\"},\"geo\":{\"bgcolor\":\"white\",\"lakecolor\":\"white\",\"landcolor\":\"#E5ECF6\",\"showlakes\":true,\"showland\":true,\"subunitcolor\":\"white\"},\"hoverlabel\":{\"align\":\"left\"},\"hovermode\":\"closest\",\"mapbox\":{\"style\":\"light\"},\"paper_bgcolor\":\"white\",\"plot_bgcolor\":\"#E5ECF6\",\"polar\":{\"angularaxis\":{\"gridcolor\":\"white\",\"linecolor\":\"white\",\"ticks\":\"\"},\"bgcolor\":\"#E5ECF6\",\"radialaxis\":{\"gridcolor\":\"white\",\"linecolor\":\"white\",\"ticks\":\"\"}},\"scene\":{\"xaxis\":{\"backgroundcolor\":\"#E5ECF6\",\"gridcolor\":\"white\",\"gridwidth\":2,\"linecolor\":\"white\",\"showbackground\":true,\"ticks\":\"\",\"zerolinecolor\":\"white\"},\"yaxis\":{\"backgroundcolor\":\"#E5ECF6\",\"gridcolor\":\"white\",\"gridwidth\":2,\"linecolor\":\"white\",\"showbackground\":true,\"ticks\":\"\",\"zerolinecolor\":\"white\"},\"zaxis\":{\"backgroundcolor\":\"#E5ECF6\",\"gridcolor\":\"white\",\"gridwidth\":2,\"linecolor\":\"white\",\"showbackground\":true,\"ticks\":\"\",\"zerolinecolor\":\"white\"}},\"shapedefaults\":{\"line\":{\"color\":\"#2a3f5f\"}},\"ternary\":{\"aaxis\":{\"gridcolor\":\"white\",\"linecolor\":\"white\",\"ticks\":\"\"},\"baxis\":{\"gridcolor\":\"white\",\"linecolor\":\"white\",\"ticks\":\"\"},\"bgcolor\":\"#E5ECF6\",\"caxis\":{\"gridcolor\":\"white\",\"linecolor\":\"white\",\"ticks\":\"\"}},\"title\":{\"x\":0.05},\"xaxis\":{\"automargin\":true,\"gridcolor\":\"white\",\"linecolor\":\"white\",\"ticks\":\"\",\"title\":{\"standoff\":15},\"zerolinecolor\":\"white\",\"zerolinewidth\":2},\"yaxis\":{\"automargin\":true,\"gridcolor\":\"white\",\"linecolor\":\"white\",\"ticks\":\"\",\"title\":{\"standoff\":15},\"zerolinecolor\":\"white\",\"zerolinewidth\":2}}},\"margin\":{\"l\":65,\"r\":50,\"b\":65,\"t\":90},\"title\":{\"text\":\"Gr\\u00e1fica interactiva en 3D\"},\"autosize\":false,\"width\":600,\"height\":600},                        {\"responsive\": true}                    ).then(function(){\n",
       "                            \n",
       "var gd = document.getElementById('71c6aa14-5804-4d0d-bf00-41ac1ec98c14');\n",
       "var x = new MutationObserver(function (mutations, observer) {{\n",
       "        var display = window.getComputedStyle(gd).display;\n",
       "        if (!display || display === 'none') {{\n",
       "            console.log([gd, 'removed!']);\n",
       "            Plotly.purge(gd);\n",
       "            observer.disconnect();\n",
       "        }}\n",
       "}});\n",
       "\n",
       "// Listen for the removal of the full notebook cells\n",
       "var notebookContainer = gd.closest('#notebook-container');\n",
       "if (notebookContainer) {{\n",
       "    x.observe(notebookContainer, {childList: true});\n",
       "}}\n",
       "\n",
       "// Listen for the clearing of the current output cell\n",
       "var outputEl = gd.closest('.output');\n",
       "if (outputEl) {{\n",
       "    x.observe(outputEl, {childList: true});\n",
       "}}\n",
       "\n",
       "                        })                };                });            </script>        </div>"
      ]
     },
     "metadata": {},
     "output_type": "display_data"
    }
   ],
   "source": [
    "\n",
    "\n",
    "%matplotlib inline  \n",
    "\n",
    "from numpy import *\n",
    "from numpy.linalg import norm\n",
    "\n",
    "from mpl_toolkits.mplot3d import Axes3D\n",
    "from matplotlib import cm\n",
    "from matplotlib.ticker import LinearLocator, FormatStrFormatter\n",
    "from matplotlib.pyplot import *\n",
    "from numpy import *\n",
    "import plotly.graph_objects as go\n",
    "import pandas as pd\n",
    "import numpy as np\n",
    "\n",
    "\n",
    "x = arange(-5, 5, 1)\n",
    "y = arange(-5, 5, 1)\n",
    "X, Y = meshgrid(x, y)\n",
    "\n",
    "## Aquí hay que meter la función por primera vez\n",
    "z =  ((3/2)*(X**2)) + (Y**2) - (X*Y) - ((19/4)*(X)) + (2*Y)\n",
    "\n",
    "\n",
    "z_data = z\n",
    "sh_0, sh_1 = z.shape\n",
    "x, y = np.linspace(0, 1, sh_0), np.linspace(0, 1, sh_1)\n",
    "fig = go.Figure(data=[go.Surface(z=z, x=x, y=y)])\n",
    "fig.update_layout(title='Gráfica interactiva en 3D', autosize=False,\n",
    "                  width=600, height=600,\n",
    "                  margin=dict(l=65, r=50, b=65, t=90))\n",
    "fig.show()"
   ]
  },
  {
   "cell_type": "markdown",
   "id": "5544d5f9",
   "metadata": {},
   "source": [
    "## Gráfico de contorno"
   ]
  },
  {
   "cell_type": "code",
   "execution_count": 4,
   "id": "58f396e1",
   "metadata": {},
   "outputs": [
    {
     "data": {
      "text/plain": [
       "Text(0.5, 1.0, 'Gráfico de contorno')"
      ]
     },
     "execution_count": 4,
     "metadata": {},
     "output_type": "execute_result"
    },
    {
     "data": {
      "image/png": "[encoded data removed]",
      "text/plain": [
       "<Figure size 432x288 with 1 Axes>"
      ]
     },
     "metadata": {
      "needs_background": "light"
     },
     "output_type": "display_data"
    }
   ],
   "source": [
    "x = arange(-5, 5, 1)\n",
    "y = arange(-5, 5, 1)\n",
    "X, Y = meshgrid(x, y)\n",
    "\n",
    "\n",
    "## Aquí hay que meter la función por segunda vez\n",
    "Z = ((3/2)*(X**2)) + (Y**2) - (X*Y) - ((19/4)*(X)) + (2*Y)\n",
    "\n",
    "figure(10)\n",
    "CS = contour(X, Y, Z, cmap=cm.coolwarm)\n",
    "clabel(CS, inline=1, fontsize=10)\n",
    "title('Gráfico de contorno')"
   ]
  },
  {
   "cell_type": "markdown",
   "id": "4e6fd47a",
   "metadata": {},
   "source": [
    "## Vamos a calcular el vector gradiente"
   ]
  },
  {
   "cell_type": "code",
   "execution_count": 5,
   "id": "0e238665",
   "metadata": {},
   "outputs": [
    {
     "name": "stdout",
     "output_type": "stream",
     "text": [
      "3.0*x - y - 4.75\n",
      "-x + 2*y + 2\n",
      "[3.0*x - y - 4.75, -x + 2*y + 2]\n"
     ]
    }
   ],
   "source": [
    "from sympy import *\n",
    "x = Symbol('x')\n",
    "y = Symbol('y')\n",
    "\n",
    "\n",
    "## Aquí hay que meter la función por tercera vez, pero con minúsculas\n",
    "\n",
    "\n",
    "## derivada parcial con respecto de X\n",
    "\n",
    "f =  ((3/2)*(x**2)) + (y**2) - (x*y) - ((19/4)*(x)) + (2*y)\n",
    "\n",
    "\n",
    "fpx = f.diff(x)\n",
    "print(fpx)\n",
    "\n",
    "## derivada parcial con respecto de Y\n",
    "\n",
    "fpy = f.diff(y)\n",
    "\n",
    "print(fpy)\n",
    "\n",
    "# función del gradiente:\n",
    "\n",
    "grad = [fpx, fpy]\n",
    "print(grad)"
   ]
  },
  {
   "cell_type": "markdown",
   "id": "bcaed7a6",
   "metadata": {},
   "source": [
    "## Vamos a optimizar y encontrar el mínimo."
   ]
  },
  {
   "cell_type": "code",
   "execution_count": 6,
   "id": "41077069",
   "metadata": {},
   "outputs": [
    {
     "name": "stdout",
     "output_type": "stream",
     "text": [
      "The function 1.5*x**2 - x*y - 4.75*x + y**2 + 2*y converges to a minimum\n",
      "Number of iterations: 6\n",
      "theta (x0) = 1.49657064471879\n",
      "theta1 (y0) = -0.255144032921811\n"
     ]
    }
   ],
   "source": [
    "theta = -1 #x\n",
    "theta1 = 1 #y\n",
    "alpha = 1/3\n",
    "iterations = 0\n",
    "check = 0\n",
    "precision = 0.01\n",
    "printData = True\n",
    "maxIterations = 200\n",
    "\n",
    "while True:\n",
    "    temptheta = theta - alpha*N(fpx.subs(x,theta).subs(y,theta1)).evalf()\n",
    "    temptheta1 = theta1 - alpha*N(fpy.subs(y,theta1)).subs(x,theta).evalf()\n",
    "    \n",
    "    iterations += 1\n",
    "    if iterations > maxIterations:\n",
    "        print(\"Too many iterations. Adjust alpha and make sure that the function is convex!\")\n",
    "        printData = False\n",
    "        break\n",
    "    if abs(temptheta-theta) < precision and abs(temptheta1-theta1) < precision:\n",
    "        break\n",
    "    theta = temptheta\n",
    "    theta1 = temptheta1\n",
    "    \n",
    "if printData:\n",
    "    print(\"The function \"+str(f)+\" converges to a minimum\")\n",
    "    print(\"Number of iterations:\",iterations,sep=\" \")\n",
    "    print(\"theta (x0) =\",temptheta,sep=\" \")\n",
    "    print(\"theta1 (y0) =\",temptheta1,sep=\" \")\n"
   ]
  },
  {
   "cell_type": "markdown",
   "id": "f936b612",
   "metadata": {},
   "source": [
    "## Vamos a volver a optimizar con el script del CIMAT para comparar resultado"
   ]
  },
  {
   "cell_type": "code",
   "execution_count": 7,
   "id": "ff687e14",
   "metadata": {},
   "outputs": [
    {
     "name": "stdout",
     "output_type": "stream",
     "text": [
      "La solución óptima encontrada por el gradiente descendente está dada por x1: 1.4997 y x2: -0.2504\n"
     ]
    }
   ],
   "source": [
    "# Definiendo el vector gradiente\n",
    "\n",
    "\n",
    "## Meter las derivadas parciales del vector gradiente---------------------------------------\n",
    "\n",
    "def grad_ex_1(t):\n",
    "    x = t[0]\n",
    "    y = t[1]\n",
    "    return [3.0*x - y - 4.75,   -x + 2*y + 2]\n",
    "\n",
    "# Usando el método del descenso empinado o gradiente descendente.\n",
    "x_opt_gd, x_his_gd = gradiente_descendente(grad_ex_1, [-1, 1], return_history = True)\n",
    "print('La solución óptima encontrada por el gradiente descendente está dada por x1: %4.4f y x2: %4.4f'%tuple(x_opt_gd))\n"
   ]
  },
  {
   "cell_type": "markdown",
   "id": "0319335a",
   "metadata": {},
   "source": [
    "## Vamos a graficar el camino seguido en el gráfico de contorno "
   ]
  },
  {
   "cell_type": "code",
   "execution_count": 8,
   "id": "fd6a4e9c",
   "metadata": {},
   "outputs": [
    {
     "data": {
      "text/plain": [
       "[<matplotlib.lines.Line2D at 0x1fe70ca7730>]"
      ]
     },
     "execution_count": 8,
     "metadata": {},
     "output_type": "execute_result"
    },
    {
     "data": {
      "image/svg+xml": [
       "<?xml version=\"1.0\" encoding=\"utf-8\" standalone=\"no\"?>\r\n",
       "<!DOCTYPE svg PUBLIC \"-//W3C//DTD SVG 1.1//EN\"\r\n",
       "  \"http://www.w3.org/Graphics/SVG/1.1/DTD/svg11.dtd\">\r\n",
       "<!-- Created with matplotlib (https://matplotlib.org/) -->\r\n",
       "<svg height=\"306.677344pt\" version=\"1.1\" viewBox=\"0 0 318.323437 306.677344\" width=\"318.323437pt\" xmlns=\"http://www.w3.org/2000/svg\" xmlns:xlink=\"http://www.w3.org/1999/xlink\">\r\n",
       " <metadata>\r\n",
       "  <rdf:RDF xmlns:cc=\"http://creativecommons.org/ns#\" xmlns:dc=\"http://purl.org/dc/elements/1.1/\" xmlns:rdf=\"http://www.w3.org/1999/02/22-rdf-syntax-ns#\">\r\n",
       "   <cc:Work>\r\n",
       "    <dc:type rdf:resource=\"http://purl.org/dc/dcmitype/StillImage\"/>\r\n",
       "    <dc:date>2022-03-31T00:33:42.046721</dc:date>\r\n",
       "    <dc:format>image/svg+xml</dc:format>\r\n",
       "    <dc:creator>\r\n",
       "     <cc:Agent>\r\n",
       "      <dc:title>Matplotlib v3.3.4, https://matplotlib.org/</dc:title>\r\n",
       "     </cc:Agent>\r\n",
       "    </dc:creator>\r\n",
       "   </cc:Work>\r\n",
       "  </rdf:RDF>\r\n",
       " </metadata>\r\n",
       " <defs>\r\n",
       "  <style type=\"text/css\">*{stroke-linecap:butt;stroke-linejoin:round;}</style>\r\n",
       " </defs>\r\n",
       " <g id=\"figure_1\">\r\n",
       "  <g id=\"patch_1\">\r\n",
       "   <path d=\"M 0 306.677344 \r\n",
       "L 318.323437 306.677344 \r\n",
       "L 318.323437 0 \r\n",
       "L 0 0 \r\n",
       "z\r\n",
       "\" style=\"fill:none;\"/>\r\n",
       "  </g>\r\n",
       "  <g id=\"axes_1\">\r\n",
       "   <g id=\"patch_2\">\r\n",
       "    <path d=\"M 28.942187 282.799219 \r\n",
       "L 307.942187 282.799219 \r\n",
       "L 307.942187 10.999219 \r\n",
       "L 28.942187 10.999219 \r\n",
       "z\r\n",
       "\" style=\"fill:#ffffff;\"/>\r\n",
       "   </g>\r\n",
       "   <g id=\"matplotlib.axis_1\">\r\n",
       "    <g id=\"xtick_1\">\r\n",
       "     <g id=\"line2d_1\">\r\n",
       "      <defs>\r\n",
       "       <path d=\"M 0 0 \r\n",
       "L 0 3.5 \r\n",
       "\" id=\"m4650f9c30d\" style=\"stroke:#000000;stroke-width:0.8;\"/>\r\n",
       "      </defs>\r\n",
       "      <g>\r\n",
       "       <use style=\"stroke:#000000;stroke-width:0.8;\" x=\"28.942187\" xlink:href=\"#m4650f9c30d\" y=\"282.799219\"/>\r\n",
       "      </g>\r\n",
       "     </g>\r\n",
       "     <g id=\"text_1\">\r\n",
       "      <!-- −5 -->\r\n",
       "      <g transform=\"translate(21.571094 297.397656)scale(0.1 -0.1)\">\r\n",
       "       <defs>\r\n",
       "        <path d=\"M 10.59375 35.5 \r\n",
       "L 73.1875 35.5 \r\n",
       "L 73.1875 27.203125 \r\n",
       "L 10.59375 27.203125 \r\n",
       "z\r\n",
       "\" id=\"DejaVuSans-8722\"/>\r\n",
       "        <path d=\"M 10.796875 72.90625 \r\n",
       "L 49.515625 72.90625 \r\n",
       "L 49.515625 64.59375 \r\n",
       "L 19.828125 64.59375 \r\n",
       "L 19.828125 46.734375 \r\n",
       "Q 21.96875 47.46875 24.109375 47.828125 \r\n",
       "Q 26.265625 48.1875 28.421875 48.1875 \r\n",
       "Q 40.625 48.1875 47.75 41.5 \r\n",
       "Q 54.890625 34.8125 54.890625 23.390625 \r\n",
       "Q 54.890625 11.625 47.5625 5.09375 \r\n",
       "Q 40.234375 -1.421875 26.90625 -1.421875 \r\n",
       "Q 22.3125 -1.421875 17.546875 -0.640625 \r\n",
       "Q 12.796875 0.140625 7.71875 1.703125 \r\n",
       "L 7.71875 11.625 \r\n",
       "Q 12.109375 9.234375 16.796875 8.0625 \r\n",
       "Q 21.484375 6.890625 26.703125 6.890625 \r\n",
       "Q 35.15625 6.890625 40.078125 11.328125 \r\n",
       "Q 45.015625 15.765625 45.015625 23.390625 \r\n",
       "Q 45.015625 31 40.078125 35.4375 \r\n",
       "Q 35.15625 39.890625 26.703125 39.890625 \r\n",
       "Q 22.75 39.890625 18.8125 39.015625 \r\n",
       "Q 14.890625 38.140625 10.796875 36.28125 \r\n",
       "z\r\n",
       "\" id=\"DejaVuSans-53\"/>\r\n",
       "       </defs>\r\n",
       "       <use xlink:href=\"#DejaVuSans-8722\"/>\r\n",
       "       <use x=\"83.789062\" xlink:href=\"#DejaVuSans-53\"/>\r\n",
       "      </g>\r\n",
       "     </g>\r\n",
       "    </g>\r\n",
       "    <g id=\"xtick_2\">\r\n",
       "     <g id=\"line2d_2\">\r\n",
       "      <g>\r\n",
       "       <use style=\"stroke:#000000;stroke-width:0.8;\" x=\"59.942187\" xlink:href=\"#m4650f9c30d\" y=\"282.799219\"/>\r\n",
       "      </g>\r\n",
       "     </g>\r\n",
       "     <g id=\"text_2\">\r\n",
       "      <!-- −4 -->\r\n",
       "      <g transform=\"translate(52.571094 297.397656)scale(0.1 -0.1)\">\r\n",
       "       <defs>\r\n",
       "        <path d=\"M 37.796875 64.3125 \r\n",
       "L 12.890625 25.390625 \r\n",
       "L 37.796875 25.390625 \r\n",
       "z\r\n",
       "M 35.203125 72.90625 \r\n",
       "L 47.609375 72.90625 \r\n",
       "L 47.609375 25.390625 \r\n",
       "L 58.015625 25.390625 \r\n",
       "L 58.015625 17.1875 \r\n",
       "L 47.609375 17.1875 \r\n",
       "L 47.609375 0 \r\n",
       "L 37.796875 0 \r\n",
       "L 37.796875 17.1875 \r\n",
       "L 4.890625 17.1875 \r\n",
       "L 4.890625 26.703125 \r\n",
       "z\r\n",
       "\" id=\"DejaVuSans-52\"/>\r\n",
       "       </defs>\r\n",
       "       <use xlink:href=\"#DejaVuSans-8722\"/>\r\n",
       "       <use x=\"83.789062\" xlink:href=\"#DejaVuSans-52\"/>\r\n",
       "      </g>\r\n",
       "     </g>\r\n",
       "    </g>\r\n",
       "    <g id=\"xtick_3\">\r\n",
       "     <g id=\"line2d_3\">\r\n",
       "      <g>\r\n",
       "       <use style=\"stroke:#000000;stroke-width:0.8;\" x=\"90.942187\" xlink:href=\"#m4650f9c30d\" y=\"282.799219\"/>\r\n",
       "      </g>\r\n",
       "     </g>\r\n",
       "     <g id=\"text_3\">\r\n",
       "      <!-- −3 -->\r\n",
       "      <g transform=\"translate(83.571094 297.397656)scale(0.1 -0.1)\">\r\n",
       "       <defs>\r\n",
       "        <path d=\"M 40.578125 39.3125 \r\n",
       "Q 47.65625 37.796875 51.625 33 \r\n",
       "Q 55.609375 28.21875 55.609375 21.1875 \r\n",
       "Q 55.609375 10.40625 48.1875 4.484375 \r\n",
       "Q 40.765625 -1.421875 27.09375 -1.421875 \r\n",
       "Q 22.515625 -1.421875 17.65625 -0.515625 \r\n",
       "Q 12.796875 0.390625 7.625 2.203125 \r\n",
       "L 7.625 11.71875 \r\n",
       "Q 11.71875 9.328125 16.59375 8.109375 \r\n",
       "Q 21.484375 6.890625 26.8125 6.890625 \r\n",
       "Q 36.078125 6.890625 40.9375 10.546875 \r\n",
       "Q 45.796875 14.203125 45.796875 21.1875 \r\n",
       "Q 45.796875 27.640625 41.28125 31.265625 \r\n",
       "Q 36.765625 34.90625 28.71875 34.90625 \r\n",
       "L 20.21875 34.90625 \r\n",
       "L 20.21875 43.015625 \r\n",
       "L 29.109375 43.015625 \r\n",
       "Q 36.375 43.015625 40.234375 45.921875 \r\n",
       "Q 44.09375 48.828125 44.09375 54.296875 \r\n",
       "Q 44.09375 59.90625 40.109375 62.90625 \r\n",
       "Q 36.140625 65.921875 28.71875 65.921875 \r\n",
       "Q 24.65625 65.921875 20.015625 65.03125 \r\n",
       "Q 15.375 64.15625 9.8125 62.3125 \r\n",
       "L 9.8125 71.09375 \r\n",
       "Q 15.4375 72.65625 20.34375 73.4375 \r\n",
       "Q 25.25 74.21875 29.59375 74.21875 \r\n",
       "Q 40.828125 74.21875 47.359375 69.109375 \r\n",
       "Q 53.90625 64.015625 53.90625 55.328125 \r\n",
       "Q 53.90625 49.265625 50.4375 45.09375 \r\n",
       "Q 46.96875 40.921875 40.578125 39.3125 \r\n",
       "z\r\n",
       "\" id=\"DejaVuSans-51\"/>\r\n",
       "       </defs>\r\n",
       "       <use xlink:href=\"#DejaVuSans-8722\"/>\r\n",
       "       <use x=\"83.789062\" xlink:href=\"#DejaVuSans-51\"/>\r\n",
       "      </g>\r\n",
       "     </g>\r\n",
       "    </g>\r\n",
       "    <g id=\"xtick_4\">\r\n",
       "     <g id=\"line2d_4\">\r\n",
       "      <g>\r\n",
       "       <use style=\"stroke:#000000;stroke-width:0.8;\" x=\"121.942187\" xlink:href=\"#m4650f9c30d\" y=\"282.799219\"/>\r\n",
       "      </g>\r\n",
       "     </g>\r\n",
       "     <g id=\"text_4\">\r\n",
       "      <!-- −2 -->\r\n",
       "      <g transform=\"translate(114.571094 297.397656)scale(0.1 -0.1)\">\r\n",
       "       <defs>\r\n",
       "        <path d=\"M 19.1875 8.296875 \r\n",
       "L 53.609375 8.296875 \r\n",
       "L 53.609375 0 \r\n",
       "L 7.328125 0 \r\n",
       "L 7.328125 8.296875 \r\n",
       "Q 12.9375 14.109375 22.625 23.890625 \r\n",
       "Q 32.328125 33.6875 34.8125 36.53125 \r\n",
       "Q 39.546875 41.84375 41.421875 45.53125 \r\n",
       "Q 43.3125 49.21875 43.3125 52.78125 \r\n",
       "Q 43.3125 58.59375 39.234375 62.25 \r\n",
       "Q 35.15625 65.921875 28.609375 65.921875 \r\n",
       "Q 23.96875 65.921875 18.8125 64.3125 \r\n",
       "Q 13.671875 62.703125 7.8125 59.421875 \r\n",
       "L 7.8125 69.390625 \r\n",
       "Q 13.765625 71.78125 18.9375 73 \r\n",
       "Q 24.125 74.21875 28.421875 74.21875 \r\n",
       "Q 39.75 74.21875 46.484375 68.546875 \r\n",
       "Q 53.21875 62.890625 53.21875 53.421875 \r\n",
       "Q 53.21875 48.921875 51.53125 44.890625 \r\n",
       "Q 49.859375 40.875 45.40625 35.40625 \r\n",
       "Q 44.1875 33.984375 37.640625 27.21875 \r\n",
       "Q 31.109375 20.453125 19.1875 8.296875 \r\n",
       "z\r\n",
       "\" id=\"DejaVuSans-50\"/>\r\n",
       "       </defs>\r\n",
       "       <use xlink:href=\"#DejaVuSans-8722\"/>\r\n",
       "       <use x=\"83.789062\" xlink:href=\"#DejaVuSans-50\"/>\r\n",
       "      </g>\r\n",
       "     </g>\r\n",
       "    </g>\r\n",
       "    <g id=\"xtick_5\">\r\n",
       "     <g id=\"line2d_5\">\r\n",
       "      <g>\r\n",
       "       <use style=\"stroke:#000000;stroke-width:0.8;\" x=\"152.942187\" xlink:href=\"#m4650f9c30d\" y=\"282.799219\"/>\r\n",
       "      </g>\r\n",
       "     </g>\r\n",
       "     <g id=\"text_5\">\r\n",
       "      <!-- −1 -->\r\n",
       "      <g transform=\"translate(145.571094 297.397656)scale(0.1 -0.1)\">\r\n",
       "       <defs>\r\n",
       "        <path d=\"M 12.40625 8.296875 \r\n",
       "L 28.515625 8.296875 \r\n",
       "L 28.515625 63.921875 \r\n",
       "L 10.984375 60.40625 \r\n",
       "L 10.984375 69.390625 \r\n",
       "L 28.421875 72.90625 \r\n",
       "L 38.28125 72.90625 \r\n",
       "L 38.28125 8.296875 \r\n",
       "L 54.390625 8.296875 \r\n",
       "L 54.390625 0 \r\n",
       "L 12.40625 0 \r\n",
       "z\r\n",
       "\" id=\"DejaVuSans-49\"/>\r\n",
       "       </defs>\r\n",
       "       <use xlink:href=\"#DejaVuSans-8722\"/>\r\n",
       "       <use x=\"83.789062\" xlink:href=\"#DejaVuSans-49\"/>\r\n",
       "      </g>\r\n",
       "     </g>\r\n",
       "    </g>\r\n",
       "    <g id=\"xtick_6\">\r\n",
       "     <g id=\"line2d_6\">\r\n",
       "      <g>\r\n",
       "       <use style=\"stroke:#000000;stroke-width:0.8;\" x=\"183.942187\" xlink:href=\"#m4650f9c30d\" y=\"282.799219\"/>\r\n",
       "      </g>\r\n",
       "     </g>\r\n",
       "     <g id=\"text_6\">\r\n",
       "      <!-- 0 -->\r\n",
       "      <g transform=\"translate(180.760937 297.397656)scale(0.1 -0.1)\">\r\n",
       "       <defs>\r\n",
       "        <path d=\"M 31.78125 66.40625 \r\n",
       "Q 24.171875 66.40625 20.328125 58.90625 \r\n",
       "Q 16.5 51.421875 16.5 36.375 \r\n",
       "Q 16.5 21.390625 20.328125 13.890625 \r\n",
       "Q 24.171875 6.390625 31.78125 6.390625 \r\n",
       "Q 39.453125 6.390625 43.28125 13.890625 \r\n",
       "Q 47.125 21.390625 47.125 36.375 \r\n",
       "Q 47.125 51.421875 43.28125 58.90625 \r\n",
       "Q 39.453125 66.40625 31.78125 66.40625 \r\n",
       "z\r\n",
       "M 31.78125 74.21875 \r\n",
       "Q 44.046875 74.21875 50.515625 64.515625 \r\n",
       "Q 56.984375 54.828125 56.984375 36.375 \r\n",
       "Q 56.984375 17.96875 50.515625 8.265625 \r\n",
       "Q 44.046875 -1.421875 31.78125 -1.421875 \r\n",
       "Q 19.53125 -1.421875 13.0625 8.265625 \r\n",
       "Q 6.59375 17.96875 6.59375 36.375 \r\n",
       "Q 6.59375 54.828125 13.0625 64.515625 \r\n",
       "Q 19.53125 74.21875 31.78125 74.21875 \r\n",
       "z\r\n",
       "\" id=\"DejaVuSans-48\"/>\r\n",
       "       </defs>\r\n",
       "       <use xlink:href=\"#DejaVuSans-48\"/>\r\n",
       "      </g>\r\n",
       "     </g>\r\n",
       "    </g>\r\n",
       "    <g id=\"xtick_7\">\r\n",
       "     <g id=\"line2d_7\">\r\n",
       "      <g>\r\n",
       "       <use style=\"stroke:#000000;stroke-width:0.8;\" x=\"214.942187\" xlink:href=\"#m4650f9c30d\" y=\"282.799219\"/>\r\n",
       "      </g>\r\n",
       "     </g>\r\n",
       "     <g id=\"text_7\">\r\n",
       "      <!-- 1 -->\r\n",
       "      <g transform=\"translate(211.760937 297.397656)scale(0.1 -0.1)\">\r\n",
       "       <use xlink:href=\"#DejaVuSans-49\"/>\r\n",
       "      </g>\r\n",
       "     </g>\r\n",
       "    </g>\r\n",
       "    <g id=\"xtick_8\">\r\n",
       "     <g id=\"line2d_8\">\r\n",
       "      <g>\r\n",
       "       <use style=\"stroke:#000000;stroke-width:0.8;\" x=\"245.942187\" xlink:href=\"#m4650f9c30d\" y=\"282.799219\"/>\r\n",
       "      </g>\r\n",
       "     </g>\r\n",
       "     <g id=\"text_8\">\r\n",
       "      <!-- 2 -->\r\n",
       "      <g transform=\"translate(242.760937 297.397656)scale(0.1 -0.1)\">\r\n",
       "       <use xlink:href=\"#DejaVuSans-50\"/>\r\n",
       "      </g>\r\n",
       "     </g>\r\n",
       "    </g>\r\n",
       "    <g id=\"xtick_9\">\r\n",
       "     <g id=\"line2d_9\">\r\n",
       "      <g>\r\n",
       "       <use style=\"stroke:#000000;stroke-width:0.8;\" x=\"276.942187\" xlink:href=\"#m4650f9c30d\" y=\"282.799219\"/>\r\n",
       "      </g>\r\n",
       "     </g>\r\n",
       "     <g id=\"text_9\">\r\n",
       "      <!-- 3 -->\r\n",
       "      <g transform=\"translate(273.760938 297.397656)scale(0.1 -0.1)\">\r\n",
       "       <use xlink:href=\"#DejaVuSans-51\"/>\r\n",
       "      </g>\r\n",
       "     </g>\r\n",
       "    </g>\r\n",
       "    <g id=\"xtick_10\">\r\n",
       "     <g id=\"line2d_10\">\r\n",
       "      <g>\r\n",
       "       <use style=\"stroke:#000000;stroke-width:0.8;\" x=\"307.942187\" xlink:href=\"#m4650f9c30d\" y=\"282.799219\"/>\r\n",
       "      </g>\r\n",
       "     </g>\r\n",
       "     <g id=\"text_10\">\r\n",
       "      <!-- 4 -->\r\n",
       "      <g transform=\"translate(304.760938 297.397656)scale(0.1 -0.1)\">\r\n",
       "       <use xlink:href=\"#DejaVuSans-52\"/>\r\n",
       "      </g>\r\n",
       "     </g>\r\n",
       "    </g>\r\n",
       "   </g>\r\n",
       "   <g id=\"matplotlib.axis_2\">\r\n",
       "    <g id=\"ytick_1\">\r\n",
       "     <g id=\"line2d_11\">\r\n",
       "      <defs>\r\n",
       "       <path d=\"M 0 0 \r\n",
       "L -3.5 0 \r\n",
       "\" id=\"mefdffe55f9\" style=\"stroke:#000000;stroke-width:0.8;\"/>\r\n",
       "      </defs>\r\n",
       "      <g>\r\n",
       "       <use style=\"stroke:#000000;stroke-width:0.8;\" x=\"28.942187\" xlink:href=\"#mefdffe55f9\" y=\"282.799219\"/>\r\n",
       "      </g>\r\n",
       "     </g>\r\n",
       "     <g id=\"text_11\">\r\n",
       "      <!-- −5 -->\r\n",
       "      <g transform=\"translate(7.2 286.598437)scale(0.1 -0.1)\">\r\n",
       "       <use xlink:href=\"#DejaVuSans-8722\"/>\r\n",
       "       <use x=\"83.789062\" xlink:href=\"#DejaVuSans-53\"/>\r\n",
       "      </g>\r\n",
       "     </g>\r\n",
       "    </g>\r\n",
       "    <g id=\"ytick_2\">\r\n",
       "     <g id=\"line2d_12\">\r\n",
       "      <g>\r\n",
       "       <use style=\"stroke:#000000;stroke-width:0.8;\" x=\"28.942187\" xlink:href=\"#mefdffe55f9\" y=\"252.599219\"/>\r\n",
       "      </g>\r\n",
       "     </g>\r\n",
       "     <g id=\"text_12\">\r\n",
       "      <!-- −4 -->\r\n",
       "      <g transform=\"translate(7.2 256.398437)scale(0.1 -0.1)\">\r\n",
       "       <use xlink:href=\"#DejaVuSans-8722\"/>\r\n",
       "       <use x=\"83.789062\" xlink:href=\"#DejaVuSans-52\"/>\r\n",
       "      </g>\r\n",
       "     </g>\r\n",
       "    </g>\r\n",
       "    <g id=\"ytick_3\">\r\n",
       "     <g id=\"line2d_13\">\r\n",
       "      <g>\r\n",
       "       <use style=\"stroke:#000000;stroke-width:0.8;\" x=\"28.942187\" xlink:href=\"#mefdffe55f9\" y=\"222.399219\"/>\r\n",
       "      </g>\r\n",
       "     </g>\r\n",
       "     <g id=\"text_13\">\r\n",
       "      <!-- −3 -->\r\n",
       "      <g transform=\"translate(7.2 226.198437)scale(0.1 -0.1)\">\r\n",
       "       <use xlink:href=\"#DejaVuSans-8722\"/>\r\n",
       "       <use x=\"83.789062\" xlink:href=\"#DejaVuSans-51\"/>\r\n",
       "      </g>\r\n",
       "     </g>\r\n",
       "    </g>\r\n",
       "    <g id=\"ytick_4\">\r\n",
       "     <g id=\"line2d_14\">\r\n",
       "      <g>\r\n",
       "       <use style=\"stroke:#000000;stroke-width:0.8;\" x=\"28.942187\" xlink:href=\"#mefdffe55f9\" y=\"192.199219\"/>\r\n",
       "      </g>\r\n",
       "     </g>\r\n",
       "     <g id=\"text_14\">\r\n",
       "      <!-- −2 -->\r\n",
       "      <g transform=\"translate(7.2 195.998437)scale(0.1 -0.1)\">\r\n",
       "       <use xlink:href=\"#DejaVuSans-8722\"/>\r\n",
       "       <use x=\"83.789062\" xlink:href=\"#DejaVuSans-50\"/>\r\n",
       "      </g>\r\n",
       "     </g>\r\n",
       "    </g>\r\n",
       "    <g id=\"ytick_5\">\r\n",
       "     <g id=\"line2d_15\">\r\n",
       "      <g>\r\n",
       "       <use style=\"stroke:#000000;stroke-width:0.8;\" x=\"28.942187\" xlink:href=\"#mefdffe55f9\" y=\"161.999219\"/>\r\n",
       "      </g>\r\n",
       "     </g>\r\n",
       "     <g id=\"text_15\">\r\n",
       "      <!-- −1 -->\r\n",
       "      <g transform=\"translate(7.2 165.798437)scale(0.1 -0.1)\">\r\n",
       "       <use xlink:href=\"#DejaVuSans-8722\"/>\r\n",
       "       <use x=\"83.789062\" xlink:href=\"#DejaVuSans-49\"/>\r\n",
       "      </g>\r\n",
       "     </g>\r\n",
       "    </g>\r\n",
       "    <g id=\"ytick_6\">\r\n",
       "     <g id=\"line2d_16\">\r\n",
       "      <g>\r\n",
       "       <use style=\"stroke:#000000;stroke-width:0.8;\" x=\"28.942187\" xlink:href=\"#mefdffe55f9\" y=\"131.799219\"/>\r\n",
       "      </g>\r\n",
       "     </g>\r\n",
       "     <g id=\"text_16\">\r\n",
       "      <!-- 0 -->\r\n",
       "      <g transform=\"translate(15.579687 135.598437)scale(0.1 -0.1)\">\r\n",
       "       <use xlink:href=\"#DejaVuSans-48\"/>\r\n",
       "      </g>\r\n",
       "     </g>\r\n",
       "    </g>\r\n",
       "    <g id=\"ytick_7\">\r\n",
       "     <g id=\"line2d_17\">\r\n",
       "      <g>\r\n",
       "       <use style=\"stroke:#000000;stroke-width:0.8;\" x=\"28.942187\" xlink:href=\"#mefdffe55f9\" y=\"101.599219\"/>\r\n",
       "      </g>\r\n",
       "     </g>\r\n",
       "     <g id=\"text_17\">\r\n",
       "      <!-- 1 -->\r\n",
       "      <g transform=\"translate(15.579687 105.398437)scale(0.1 -0.1)\">\r\n",
       "       <use xlink:href=\"#DejaVuSans-49\"/>\r\n",
       "      </g>\r\n",
       "     </g>\r\n",
       "    </g>\r\n",
       "    <g id=\"ytick_8\">\r\n",
       "     <g id=\"line2d_18\">\r\n",
       "      <g>\r\n",
       "       <use style=\"stroke:#000000;stroke-width:0.8;\" x=\"28.942187\" xlink:href=\"#mefdffe55f9\" y=\"71.399219\"/>\r\n",
       "      </g>\r\n",
       "     </g>\r\n",
       "     <g id=\"text_18\">\r\n",
       "      <!-- 2 -->\r\n",
       "      <g transform=\"translate(15.579687 75.198437)scale(0.1 -0.1)\">\r\n",
       "       <use xlink:href=\"#DejaVuSans-50\"/>\r\n",
       "      </g>\r\n",
       "     </g>\r\n",
       "    </g>\r\n",
       "    <g id=\"ytick_9\">\r\n",
       "     <g id=\"line2d_19\">\r\n",
       "      <g>\r\n",
       "       <use style=\"stroke:#000000;stroke-width:0.8;\" x=\"28.942187\" xlink:href=\"#mefdffe55f9\" y=\"41.199219\"/>\r\n",
       "      </g>\r\n",
       "     </g>\r\n",
       "     <g id=\"text_19\">\r\n",
       "      <!-- 3 -->\r\n",
       "      <g transform=\"translate(15.579687 44.998438)scale(0.1 -0.1)\">\r\n",
       "       <use xlink:href=\"#DejaVuSans-51\"/>\r\n",
       "      </g>\r\n",
       "     </g>\r\n",
       "    </g>\r\n",
       "    <g id=\"ytick_10\">\r\n",
       "     <g id=\"line2d_20\">\r\n",
       "      <g>\r\n",
       "       <use style=\"stroke:#000000;stroke-width:0.8;\" x=\"28.942187\" xlink:href=\"#mefdffe55f9\" y=\"10.999219\"/>\r\n",
       "      </g>\r\n",
       "     </g>\r\n",
       "     <g id=\"text_20\">\r\n",
       "      <!-- 4 -->\r\n",
       "      <g transform=\"translate(15.579687 14.798437)scale(0.1 -0.1)\">\r\n",
       "       <use xlink:href=\"#DejaVuSans-52\"/>\r\n",
       "      </g>\r\n",
       "     </g>\r\n",
       "    </g>\r\n",
       "   </g>\r\n",
       "   <g id=\"LineCollection_1\"/>\r\n",
       "   <g id=\"LineCollection_2\">\r\n",
       "    <path clip-path=\"url(#pa13d54eaac)\" d=\"M 273.112621 150.119354 \r\n",
       "L 266.608854 161.999219 \r\n",
       "L 245.942187 187.165885 \r\n",
       "L 237.085045 192.199219 \r\n",
       "L 214.942187 201.636719 \r\n",
       "L 183.942187 192.199219 \r\n",
       "L 178.037426 161.999219 \r\n",
       "L 183.942187 131.799219 \r\n",
       "L 205.82454 101.599219 \r\n",
       "L 214.942187 92.161719 \r\n",
       "L 245.942187 76.432552 \r\n",
       "L 276.942187 90.274219 \r\n",
       "L 281.836924 101.599219 \r\n",
       "L 281.549189 111.807159 \r\n",
       "\" style=\"fill:none;stroke:#482878;stroke-width:1.5;\"/>\r\n",
       "   </g>\r\n",
       "   <g id=\"LineCollection_3\">\r\n",
       "    <path clip-path=\"url(#pa13d54eaac)\" d=\"M 183.942187 282.799219 \r\n",
       "L 152.942187 276.507552 \r\n",
       "L 124.894568 252.599219 \r\n",
       "L 121.942187 247.565885 \r\n",
       "L 113.563809 222.399219 \r\n",
       "L 111.356822 192.199219 \r\n",
       "L 115.053299 161.999219 \r\n",
       "L 115.869771 159.01646 \r\n",
       "\" style=\"fill:none;stroke:#3e4989;stroke-width:1.5;\"/>\r\n",
       "    <path clip-path=\"url(#pa13d54eaac)\" d=\"M 131.471833 115.942659 \r\n",
       "L 138.576334 101.599219 \r\n",
       "L 152.942187 77.690885 \r\n",
       "L 157.639157 71.399219 \r\n",
       "L 183.942187 41.199219 \r\n",
       "L 214.942187 17.605469 \r\n",
       "L 227.706893 10.999219 \r\n",
       "\" style=\"fill:none;stroke:#3e4989;stroke-width:1.5;\"/>\r\n",
       "    <path clip-path=\"url(#pa13d54eaac)\" d=\"M 307.942187 200.82779 \r\n",
       "L 290.227902 222.399219 \r\n",
       "L 276.942187 236.555469 \r\n",
       "L 275.191603 237.994407 \r\n",
       "\" style=\"fill:none;stroke:#3e4989;stroke-width:1.5;\"/>\r\n",
       "    <path clip-path=\"url(#pa13d54eaac)\" d=\"M 238.058994 264.854652 \r\n",
       "L 214.942187 276.192969 \r\n",
       "L 183.942187 282.799219 \r\n",
       "\" style=\"fill:none;stroke:#3e4989;stroke-width:1.5;\"/>\r\n",
       "   </g>\r\n",
       "   <g id=\"LineCollection_4\">\r\n",
       "    <path clip-path=\"url(#pa13d54eaac)\" d=\"M 84.137309 282.799219 \r\n",
       "L 73.719965 252.599219 \r\n",
       "L 70.064636 222.399219 \r\n",
       "L 71.640301 192.199219 \r\n",
       "L 77.345696 161.999219 \r\n",
       "L 83.280709 142.134104 \r\n",
       "\" style=\"fill:none;stroke:#31688e;stroke-width:1.5;\"/>\r\n",
       "    <path clip-path=\"url(#pa13d54eaac)\" d=\"M 100.777654 99.688976 \r\n",
       "L 116.503591 71.399219 \r\n",
       "L 121.942187 63.01033 \r\n",
       "L 138.391167 41.199219 \r\n",
       "L 152.942187 23.834219 \r\n",
       "L 165.795846 10.999219 \r\n",
       "\" style=\"fill:none;stroke:#31688e;stroke-width:1.5;\"/>\r\n",
       "    <path clip-path=\"url(#pa13d54eaac)\" d=\"M 307.942187 255.344673 \r\n",
       "L 279.104978 282.799219 \r\n",
       "\" style=\"fill:none;stroke:#31688e;stroke-width:1.5;\"/>\r\n",
       "   </g>\r\n",
       "   <g id=\"LineCollection_5\">\r\n",
       "    <path clip-path=\"url(#pa13d54eaac)\" d=\"M 43.564829 282.799219 \r\n",
       "L 38.187802 252.599219 \r\n",
       "L 37.581532 222.399219 \r\n",
       "L 40.865264 192.199219 \r\n",
       "L 47.362477 161.999219 \r\n",
       "L 52.551756 144.93229 \r\n",
       "\" style=\"fill:none;stroke:#26828e;stroke-width:1.5;\"/>\r\n",
       "    <path clip-path=\"url(#pa13d54eaac)\" d=\"M 69.243585 102.135344 \r\n",
       "L 69.480649 101.599219 \r\n",
       "L 85.101608 71.399219 \r\n",
       "L 90.942187 61.584219 \r\n",
       "L 104.663499 41.199219 \r\n",
       "L 121.942187 17.862855 \r\n",
       "L 127.791244 10.999219 \r\n",
       "\" style=\"fill:none;stroke:#26828e;stroke-width:1.5;\"/>\r\n",
       "   </g>\r\n",
       "   <g id=\"LineCollection_6\">\r\n",
       "    <path clip-path=\"url(#pa13d54eaac)\" d=\"M 28.942187 138.090885 \r\n",
       "L 31.065475 131.799219 \r\n",
       "L 43.838291 101.599219 \r\n",
       "L 49.781707 89.282553 \r\n",
       "\" style=\"fill:none;stroke:#1f9e89;stroke-width:1.5;\"/>\r\n",
       "    <path clip-path=\"url(#pa13d54eaac)\" d=\"M 72.043518 49.094679 \r\n",
       "L 76.928489 41.199219 \r\n",
       "L 90.942187 20.436719 \r\n",
       "L 98.096034 10.999219 \r\n",
       "\" style=\"fill:none;stroke:#1f9e89;stroke-width:1.5;\"/>\r\n",
       "   </g>\r\n",
       "   <g id=\"LineCollection_7\">\r\n",
       "    <path clip-path=\"url(#pa13d54eaac)\" d=\"M 28.942187 84.234219 \r\n",
       "L 35.44836 71.399219 \r\n",
       "L 41.265539 61.185163 \r\n",
       "\" style=\"fill:none;stroke:#35b779;stroke-width:1.5;\"/>\r\n",
       "    <path clip-path=\"url(#pa13d54eaac)\" d=\"M 65.231559 21.95362 \r\n",
       "L 72.825304 10.999219 \r\n",
       "\" style=\"fill:none;stroke:#35b779;stroke-width:1.5;\"/>\r\n",
       "   </g>\r\n",
       "   <g id=\"LineCollection_8\">\r\n",
       "    <path clip-path=\"url(#pa13d54eaac)\" d=\"M 28.942187 44.345052 \r\n",
       "L 30.765717 41.199219 \r\n",
       "L 50.189379 10.999219 \r\n",
       "\" style=\"fill:none;stroke:#6ece58;stroke-width:1.5;\"/>\r\n",
       "   </g>\r\n",
       "   <g id=\"LineCollection_9\">\r\n",
       "    <path clip-path=\"url(#pa13d54eaac)\" d=\"M 28.942187 11.538504 \r\n",
       "L 29.290502 10.999219 \r\n",
       "\" style=\"fill:none;stroke:#b5de2b;stroke-width:1.5;\"/>\r\n",
       "   </g>\r\n",
       "   <g id=\"LineCollection_10\"/>\r\n",
       "   <g id=\"line2d_21\">\r\n",
       "    <path clip-path=\"url(#pa13d54eaac)\" d=\"M 152.942187 101.599219 \r\n",
       "L 243.358854 151.932552 \r\n",
       "L 226.136632 139.349219 \r\n",
       "L 230.442187 140.747367 \r\n",
       "L 229.963792 139.815268 \r\n",
       "L 230.282722 139.659918 \r\n",
       "L 230.335877 139.504569 \r\n",
       "L 230.389032 139.435524 \r\n",
       "L 230.412657 139.395248 \r\n",
       "L 230.426438 139.374151 \r\n",
       "L 230.433656 139.362644 \r\n",
       "\" style=\"fill:none;stroke:#ff0000;stroke-linecap:square;stroke-width:1.5;\"/>\r\n",
       "    <defs>\r\n",
       "     <path d=\"M 0 -3 \r\n",
       "L -0.673542 -0.927051 \r\n",
       "L -2.85317 -0.927051 \r\n",
       "L -1.089814 0.354102 \r\n",
       "L -1.763356 2.427051 \r\n",
       "L -0 1.145898 \r\n",
       "L 1.763356 2.427051 \r\n",
       "L 1.089814 0.354102 \r\n",
       "L 2.85317 -0.927051 \r\n",
       "L 0.673542 -0.927051 \r\n",
       "z\r\n",
       "\" id=\"m8908e28f06\" style=\"stroke:#ff0000;stroke-linejoin:bevel;\"/>\r\n",
       "    </defs>\r\n",
       "    <g clip-path=\"url(#pa13d54eaac)\">\r\n",
       "     <use style=\"fill:#ff0000;stroke:#ff0000;stroke-linejoin:bevel;\" x=\"152.942187\" xlink:href=\"#m8908e28f06\" y=\"101.599219\"/>\r\n",
       "     <use style=\"fill:#ff0000;stroke:#ff0000;stroke-linejoin:bevel;\" x=\"243.358854\" xlink:href=\"#m8908e28f06\" y=\"151.932552\"/>\r\n",
       "     <use style=\"fill:#ff0000;stroke:#ff0000;stroke-linejoin:bevel;\" x=\"226.136632\" xlink:href=\"#m8908e28f06\" y=\"139.349219\"/>\r\n",
       "     <use style=\"fill:#ff0000;stroke:#ff0000;stroke-linejoin:bevel;\" x=\"230.442187\" xlink:href=\"#m8908e28f06\" y=\"140.747367\"/>\r\n",
       "     <use style=\"fill:#ff0000;stroke:#ff0000;stroke-linejoin:bevel;\" x=\"229.963792\" xlink:href=\"#m8908e28f06\" y=\"139.815268\"/>\r\n",
       "     <use style=\"fill:#ff0000;stroke:#ff0000;stroke-linejoin:bevel;\" x=\"230.282722\" xlink:href=\"#m8908e28f06\" y=\"139.659918\"/>\r\n",
       "     <use style=\"fill:#ff0000;stroke:#ff0000;stroke-linejoin:bevel;\" x=\"230.335877\" xlink:href=\"#m8908e28f06\" y=\"139.504569\"/>\r\n",
       "     <use style=\"fill:#ff0000;stroke:#ff0000;stroke-linejoin:bevel;\" x=\"230.389032\" xlink:href=\"#m8908e28f06\" y=\"139.435524\"/>\r\n",
       "     <use style=\"fill:#ff0000;stroke:#ff0000;stroke-linejoin:bevel;\" x=\"230.412657\" xlink:href=\"#m8908e28f06\" y=\"139.395248\"/>\r\n",
       "     <use style=\"fill:#ff0000;stroke:#ff0000;stroke-linejoin:bevel;\" x=\"230.426438\" xlink:href=\"#m8908e28f06\" y=\"139.374151\"/>\r\n",
       "     <use style=\"fill:#ff0000;stroke:#ff0000;stroke-linejoin:bevel;\" x=\"230.433656\" xlink:href=\"#m8908e28f06\" y=\"139.362644\"/>\r\n",
       "    </g>\r\n",
       "   </g>\r\n",
       "   <g id=\"patch_3\">\r\n",
       "    <path d=\"M 28.942187 282.799219 \r\n",
       "L 28.942187 10.999219 \r\n",
       "\" style=\"fill:none;stroke:#000000;stroke-linecap:square;stroke-linejoin:miter;stroke-width:0.8;\"/>\r\n",
       "   </g>\r\n",
       "   <g id=\"patch_4\">\r\n",
       "    <path d=\"M 307.942187 282.799219 \r\n",
       "L 307.942187 10.999219 \r\n",
       "\" style=\"fill:none;stroke:#000000;stroke-linecap:square;stroke-linejoin:miter;stroke-width:0.8;\"/>\r\n",
       "   </g>\r\n",
       "   <g id=\"patch_5\">\r\n",
       "    <path d=\"M 28.942187 282.799219 \r\n",
       "L 307.942187 282.799219 \r\n",
       "\" style=\"fill:none;stroke:#000000;stroke-linecap:square;stroke-linejoin:miter;stroke-width:0.8;\"/>\r\n",
       "   </g>\r\n",
       "   <g id=\"patch_6\">\r\n",
       "    <path d=\"M 28.942187 10.999219 \r\n",
       "L 307.942187 10.999219 \r\n",
       "\" style=\"fill:none;stroke:#000000;stroke-linecap:square;stroke-linejoin:miter;stroke-width:0.8;\"/>\r\n",
       "   </g>\r\n",
       "   <g id=\"text_21\">\r\n",
       "    <g clip-path=\"url(#pa13d54eaac)\">\r\n",
       "     <!-- 0.000 -->\r\n",
       "     <g style=\"fill:#482878;\" transform=\"translate(280.83148 146.376007)rotate(-78.482703)scale(0.1 -0.1)\">\r\n",
       "      <defs>\r\n",
       "       <path d=\"M 10.6875 12.40625 \r\n",
       "L 21 12.40625 \r\n",
       "L 21 0 \r\n",
       "L 10.6875 0 \r\n",
       "z\r\n",
       "\" id=\"DejaVuSans-46\"/>\r\n",
       "      </defs>\r\n",
       "      <use xlink:href=\"#DejaVuSans-48\"/>\r\n",
       "      <use x=\"63.623047\" xlink:href=\"#DejaVuSans-46\"/>\r\n",
       "      <use x=\"95.410156\" xlink:href=\"#DejaVuSans-48\"/>\r\n",
       "      <use x=\"159.033203\" xlink:href=\"#DejaVuSans-48\"/>\r\n",
       "      <use x=\"222.65625\" xlink:href=\"#DejaVuSans-48\"/>\r\n",
       "     </g>\r\n",
       "    </g>\r\n",
       "   </g>\r\n",
       "   <g id=\"text_22\">\r\n",
       "    <g clip-path=\"url(#pa13d54eaac)\">\r\n",
       "     <!-- 15.000 -->\r\n",
       "     <g style=\"fill:#3e4989;\" transform=\"translate(118.655697 154.236548)rotate(-70.343544)scale(0.1 -0.1)\">\r\n",
       "      <use xlink:href=\"#DejaVuSans-49\"/>\r\n",
       "      <use x=\"63.623047\" xlink:href=\"#DejaVuSans-53\"/>\r\n",
       "      <use x=\"127.246094\" xlink:href=\"#DejaVuSans-46\"/>\r\n",
       "      <use x=\"159.033203\" xlink:href=\"#DejaVuSans-48\"/>\r\n",
       "      <use x=\"222.65625\" xlink:href=\"#DejaVuSans-48\"/>\r\n",
       "      <use x=\"286.279297\" xlink:href=\"#DejaVuSans-48\"/>\r\n",
       "     </g>\r\n",
       "    </g>\r\n",
       "   </g>\r\n",
       "   <g id=\"text_23\">\r\n",
       "    <g clip-path=\"url(#pa13d54eaac)\">\r\n",
       "     <!-- 15.000 -->\r\n",
       "     <g style=\"fill:#3e4989;\" transform=\"translate(245.054151 265.275777)rotate(-36.73945)scale(0.1 -0.1)\">\r\n",
       "      <use xlink:href=\"#DejaVuSans-49\"/>\r\n",
       "      <use x=\"63.623047\" xlink:href=\"#DejaVuSans-53\"/>\r\n",
       "      <use x=\"127.246094\" xlink:href=\"#DejaVuSans-46\"/>\r\n",
       "      <use x=\"159.033203\" xlink:href=\"#DejaVuSans-48\"/>\r\n",
       "      <use x=\"222.65625\" xlink:href=\"#DejaVuSans-48\"/>\r\n",
       "      <use x=\"286.279297\" xlink:href=\"#DejaVuSans-48\"/>\r\n",
       "     </g>\r\n",
       "    </g>\r\n",
       "   </g>\r\n",
       "   <g id=\"text_24\">\r\n",
       "    <g clip-path=\"url(#pa13d54eaac)\">\r\n",
       "     <!-- 30.000 -->\r\n",
       "     <g style=\"fill:#31688e;\" transform=\"translate(86.765882 137.686382)rotate(-67.398594)scale(0.1 -0.1)\">\r\n",
       "      <use xlink:href=\"#DejaVuSans-51\"/>\r\n",
       "      <use x=\"63.623047\" xlink:href=\"#DejaVuSans-48\"/>\r\n",
       "      <use x=\"127.246094\" xlink:href=\"#DejaVuSans-46\"/>\r\n",
       "      <use x=\"159.033203\" xlink:href=\"#DejaVuSans-48\"/>\r\n",
       "      <use x=\"222.65625\" xlink:href=\"#DejaVuSans-48\"/>\r\n",
       "      <use x=\"286.279297\" xlink:href=\"#DejaVuSans-48\"/>\r\n",
       "     </g>\r\n",
       "    </g>\r\n",
       "   </g>\r\n",
       "   <g id=\"text_25\">\r\n",
       "    <g clip-path=\"url(#pa13d54eaac)\">\r\n",
       "     <!-- 45.000 -->\r\n",
       "     <g style=\"fill:#26828e;\" transform=\"translate(56.078369 140.455641)rotate(-68.436576)scale(0.1 -0.1)\">\r\n",
       "      <use xlink:href=\"#DejaVuSans-52\"/>\r\n",
       "      <use x=\"63.623047\" xlink:href=\"#DejaVuSans-53\"/>\r\n",
       "      <use x=\"127.246094\" xlink:href=\"#DejaVuSans-46\"/>\r\n",
       "      <use x=\"159.033203\" xlink:href=\"#DejaVuSans-48\"/>\r\n",
       "      <use x=\"222.65625\" xlink:href=\"#DejaVuSans-48\"/>\r\n",
       "      <use x=\"286.279297\" xlink:href=\"#DejaVuSans-48\"/>\r\n",
       "     </g>\r\n",
       "    </g>\r\n",
       "   </g>\r\n",
       "   <g id=\"text_26\">\r\n",
       "    <g clip-path=\"url(#pa13d54eaac)\">\r\n",
       "     <!-- 60.000 -->\r\n",
       "     <g style=\"fill:#1f9e89;\" transform=\"translate(53.859681 85.288163)rotate(-60.951737)scale(0.1 -0.1)\">\r\n",
       "      <defs>\r\n",
       "       <path d=\"M 33.015625 40.375 \r\n",
       "Q 26.375 40.375 22.484375 35.828125 \r\n",
       "Q 18.609375 31.296875 18.609375 23.390625 \r\n",
       "Q 18.609375 15.53125 22.484375 10.953125 \r\n",
       "Q 26.375 6.390625 33.015625 6.390625 \r\n",
       "Q 39.65625 6.390625 43.53125 10.953125 \r\n",
       "Q 47.40625 15.53125 47.40625 23.390625 \r\n",
       "Q 47.40625 31.296875 43.53125 35.828125 \r\n",
       "Q 39.65625 40.375 33.015625 40.375 \r\n",
       "z\r\n",
       "M 52.59375 71.296875 \r\n",
       "L 52.59375 62.3125 \r\n",
       "Q 48.875 64.0625 45.09375 64.984375 \r\n",
       "Q 41.3125 65.921875 37.59375 65.921875 \r\n",
       "Q 27.828125 65.921875 22.671875 59.328125 \r\n",
       "Q 17.53125 52.734375 16.796875 39.40625 \r\n",
       "Q 19.671875 43.65625 24.015625 45.921875 \r\n",
       "Q 28.375 48.1875 33.59375 48.1875 \r\n",
       "Q 44.578125 48.1875 50.953125 41.515625 \r\n",
       "Q 57.328125 34.859375 57.328125 23.390625 \r\n",
       "Q 57.328125 12.15625 50.6875 5.359375 \r\n",
       "Q 44.046875 -1.421875 33.015625 -1.421875 \r\n",
       "Q 20.359375 -1.421875 13.671875 8.265625 \r\n",
       "Q 6.984375 17.96875 6.984375 36.375 \r\n",
       "Q 6.984375 53.65625 15.1875 63.9375 \r\n",
       "Q 23.390625 74.21875 37.203125 74.21875 \r\n",
       "Q 40.921875 74.21875 44.703125 73.484375 \r\n",
       "Q 48.484375 72.75 52.59375 71.296875 \r\n",
       "z\r\n",
       "\" id=\"DejaVuSans-54\"/>\r\n",
       "      </defs>\r\n",
       "      <use xlink:href=\"#DejaVuSans-54\"/>\r\n",
       "      <use x=\"63.623047\" xlink:href=\"#DejaVuSans-48\"/>\r\n",
       "      <use x=\"127.246094\" xlink:href=\"#DejaVuSans-46\"/>\r\n",
       "      <use x=\"159.033203\" xlink:href=\"#DejaVuSans-48\"/>\r\n",
       "      <use x=\"222.65625\" xlink:href=\"#DejaVuSans-48\"/>\r\n",
       "      <use x=\"286.279297\" xlink:href=\"#DejaVuSans-48\"/>\r\n",
       "     </g>\r\n",
       "    </g>\r\n",
       "   </g>\r\n",
       "   <g id=\"text_27\">\r\n",
       "    <g clip-path=\"url(#pa13d54eaac)\">\r\n",
       "     <!-- 75.000 -->\r\n",
       "     <g style=\"fill:#35b779;\" transform=\"translate(45.943956 57.592966)rotate(-58.795315)scale(0.1 -0.1)\">\r\n",
       "      <defs>\r\n",
       "       <path d=\"M 8.203125 72.90625 \r\n",
       "L 55.078125 72.90625 \r\n",
       "L 55.078125 68.703125 \r\n",
       "L 28.609375 0 \r\n",
       "L 18.3125 0 \r\n",
       "L 43.21875 64.59375 \r\n",
       "L 8.203125 64.59375 \r\n",
       "z\r\n",
       "\" id=\"DejaVuSans-55\"/>\r\n",
       "      </defs>\r\n",
       "      <use xlink:href=\"#DejaVuSans-55\"/>\r\n",
       "      <use x=\"63.623047\" xlink:href=\"#DejaVuSans-53\"/>\r\n",
       "      <use x=\"127.246094\" xlink:href=\"#DejaVuSans-46\"/>\r\n",
       "      <use x=\"159.033203\" xlink:href=\"#DejaVuSans-48\"/>\r\n",
       "      <use x=\"222.65625\" xlink:href=\"#DejaVuSans-48\"/>\r\n",
       "      <use x=\"286.279297\" xlink:href=\"#DejaVuSans-48\"/>\r\n",
       "     </g>\r\n",
       "    </g>\r\n",
       "   </g>\r\n",
       "  </g>\r\n",
       " </g>\r\n",
       " <defs>\r\n",
       "  <clipPath id=\"pa13d54eaac\">\r\n",
       "   <rect height=\"271.8\" width=\"279\" x=\"28.942187\" y=\"10.999219\"/>\r\n",
       "  </clipPath>\r\n",
       " </defs>\r\n",
       "</svg>\r\n"
      ],
      "text/plain": [
       "<Figure size 360x360 with 1 Axes>"
      ]
     },
     "metadata": {
      "needs_background": "light"
     },
     "output_type": "display_data"
    }
   ],
   "source": [
    "\n",
    "import matplotlib.pyplot as plt\n",
    "from matplotlib import rcParams\n",
    "#from matplotlib.pyplot import contour\n",
    "# Definiendo la función objetivo\n",
    "def obj_ex_1(t):\n",
    "    x = t[0]\n",
    "    y = t[1]\n",
    "    return ((3/2)*(x**2)) + (y**2) - (x*y) - ((19/4)*(x)) + (2*y)\n",
    "    \n",
    "from IPython.display import set_matplotlib_formats\n",
    "%matplotlib inline\n",
    "set_matplotlib_formats('svg')\n",
    "\n",
    "import matplotlib.pyplot as plt\n",
    "from matplotlib import rcParams\n",
    "\n",
    "\n",
    "# Initialize plot objects\n",
    "rcParams['figure.figsize'] = 5, 5 # sets plot size\n",
    "fig = plt.figure()\n",
    "ax = fig.add_subplot(111)\n",
    "\n",
    "# Generate a contour plot\n",
    "cp = ax.contour(X, Y, Z)\n",
    "clabel(cp, inline=1, fontsize=10)\n",
    "ax.plot(x_his_gd[:, 0], x_his_gd[:, 1], 'r-*')"
   ]
  },
  {
   "cell_type": "markdown",
   "id": "9ca6811c",
   "metadata": {},
   "source": [
    "## Generaremos la tabla solicitada con los valores de las iteraciones. "
   ]
  },
  {
   "cell_type": "code",
   "execution_count": 9,
   "id": "03c7c814",
   "metadata": {},
   "outputs": [
    {
     "data": {
      "text/html": [
       "<div>\n",
       "<style scoped>\n",
       "    .dataframe tbody tr th:only-of-type {\n",
       "        vertical-align: middle;\n",
       "    }\n",
       "\n",
       "    .dataframe tbody tr th {\n",
       "        vertical-align: top;\n",
       "    }\n",
       "\n",
       "    .dataframe thead th {\n",
       "        text-align: right;\n",
       "    }\n",
       "</style>\n",
       "<table border=\"1\" class=\"dataframe\">\n",
       "  <thead>\n",
       "    <tr style=\"text-align: right;\">\n",
       "      <th></th>\n",
       "      <th>x(t)</th>\n",
       "      <th>d(t)</th>\n",
       "      <th>x(t+1)</th>\n",
       "    </tr>\n",
       "    <tr>\n",
       "      <th>Iteración (t)</th>\n",
       "      <th></th>\n",
       "      <th></th>\n",
       "      <th></th>\n",
       "    </tr>\n",
       "  </thead>\n",
       "  <tbody>\n",
       "    <tr>\n",
       "      <th>0</th>\n",
       "      <td>1.0,-1.0</td>\n",
       "      <td>0.75,1.0</td>\n",
       "      <td>1.25,-0.6667</td>\n",
       "    </tr>\n",
       "    <tr>\n",
       "      <th>1</th>\n",
       "      <td>1.25,-0.6667</td>\n",
       "      <td>0.3333,0.5833</td>\n",
       "      <td>1.3611,-0.4722</td>\n",
       "    </tr>\n",
       "    <tr>\n",
       "      <th>2</th>\n",
       "      <td>1.3611,-0.4722</td>\n",
       "      <td>0.1944,0.3056</td>\n",
       "      <td>1.4259,-0.3704</td>\n",
       "    </tr>\n",
       "    <tr>\n",
       "      <th>3</th>\n",
       "      <td>1.4259,-0.3704</td>\n",
       "      <td>0.1019,0.1667</td>\n",
       "      <td>1.4599,-0.3148</td>\n",
       "    </tr>\n",
       "    <tr>\n",
       "      <th>4</th>\n",
       "      <td>1.4599,-0.3148</td>\n",
       "      <td>0.0556,0.0895</td>\n",
       "      <td>1.4784,-0.285</td>\n",
       "    </tr>\n",
       "    <tr>\n",
       "      <th>5</th>\n",
       "      <td>1.4784,-0.285</td>\n",
       "      <td>0.0298,0.0484</td>\n",
       "      <td>1.4883,-0.2689</td>\n",
       "    </tr>\n",
       "    <tr>\n",
       "      <th>6</th>\n",
       "      <td>1.4883,-0.2689</td>\n",
       "      <td>0.0161,0.0261</td>\n",
       "      <td>1.4937,-0.2602</td>\n",
       "    </tr>\n",
       "    <tr>\n",
       "      <th>7</th>\n",
       "      <td>1.4937,-0.2602</td>\n",
       "      <td>0.0087,0.0141</td>\n",
       "      <td>1.4966,-0.2555</td>\n",
       "    </tr>\n",
       "    <tr>\n",
       "      <th>8</th>\n",
       "      <td>1.4966,-0.2555</td>\n",
       "      <td>0.0047,0.0076</td>\n",
       "      <td>1.4982,-0.253</td>\n",
       "    </tr>\n",
       "    <tr>\n",
       "      <th>9</th>\n",
       "      <td>1.4982,-0.253</td>\n",
       "      <td>0.0025,0.0041</td>\n",
       "      <td>1.499,-0.2516</td>\n",
       "    </tr>\n",
       "    <tr>\n",
       "      <th>10</th>\n",
       "      <td>1.499,-0.2516</td>\n",
       "      <td>0.0014,0.0022</td>\n",
       "      <td>1.4995,-0.2509</td>\n",
       "    </tr>\n",
       "  </tbody>\n",
       "</table>\n",
       "</div>"
      ],
      "text/plain": [
       "                         x(t)           d(t)          x(t+1)\n",
       "Iteración (t)                                               \n",
       "0                    1.0,-1.0       0.75,1.0    1.25,-0.6667\n",
       "1                1.25,-0.6667  0.3333,0.5833  1.3611,-0.4722\n",
       "2              1.3611,-0.4722  0.1944,0.3056  1.4259,-0.3704\n",
       "3              1.4259,-0.3704  0.1019,0.1667  1.4599,-0.3148\n",
       "4              1.4599,-0.3148  0.0556,0.0895   1.4784,-0.285\n",
       "5               1.4784,-0.285  0.0298,0.0484  1.4883,-0.2689\n",
       "6              1.4883,-0.2689  0.0161,0.0261  1.4937,-0.2602\n",
       "7              1.4937,-0.2602  0.0087,0.0141  1.4966,-0.2555\n",
       "8              1.4966,-0.2555  0.0047,0.0076   1.4982,-0.253\n",
       "9               1.4982,-0.253  0.0025,0.0041   1.499,-0.2516\n",
       "10              1.499,-0.2516  0.0014,0.0022  1.4995,-0.2509"
      ]
     },
     "execution_count": 9,
     "metadata": {},
     "output_type": "execute_result"
    }
   ],
   "source": [
    "xtmasuno = gradiente_descendente(grad_ex_1, [1, -1], return_history = True)\n",
    "principio = xtmasuno[1]\n",
    "principio\n",
    "xtmasi_final = pd.DataFrame(principio[1:40,])\n",
    "freim = pd.DataFrame(principio)\n",
    "def funcion(X):\n",
    "    for i, j in X.itertuples(index=False):\n",
    "        x = X[0]\n",
    "        y = X[1] ## Hay que meter aquí el vector, pero con signos inversos\n",
    "        return [-(3.0*x - y - 4.75),   -(-x + 2*y + 2)]\n",
    "gato = funcion(freim)\n",
    "gato2 = pd.DataFrame(gato)\n",
    "gato2 = gato2.transpose()\n",
    "df_all_rows = pd.concat([freim,  gato2, xtmasi_final], axis = 1)\n",
    "df_all_rows =  df_all_rows.round(4)\n",
    "df_all_rows= df_all_rows.set_axis(['V', 'W', 'X', 'Y', 'Z', \"YI\"], axis=1, inplace=False)\n",
    "df_all_rows['V'] = df_all_rows['V'].astype(str)\n",
    "df_all_rows['W'] = df_all_rows['W'].astype(str)\n",
    "df_all_rows['X'] = df_all_rows['X'].astype(str)\n",
    "df_all_rows['Y'] = df_all_rows['Y'].astype(str)\n",
    "df_all_rows['Z'] = df_all_rows['Z'].astype(str)\n",
    "df_all_rows[\"YI\"] = df_all_rows[\"YI\"].astype(str)\n",
    "df_all_rows['x(t)'] = df_all_rows['V'] + ',' + df_all_rows['W']\n",
    "df_all_rows['d(t)'] = df_all_rows[\"X\"] + ',' + df_all_rows['Y']\n",
    "df_all_rows['x(t+1)'] = df_all_rows['Z'] + ',' + df_all_rows['YI']\n",
    "df_all_rows = df_all_rows.drop([\"Y\", \"X\", \"V\", \"W\", \"Z\", \"YI\"], axis = 1)\n",
    "df_all_rows.index.names = ['Iteración (t)']\n",
    "df_all_rows.head(11)"
   ]
  },
  {
   "cell_type": "code",
   "execution_count": null,
   "id": "6f325a6b",
   "metadata": {},
   "outputs": [],
   "source": []
  }
 ],
 "metadata": {
  "kernelspec": {
   "display_name": "Python 3",
   "language": "python",
   "name": "python3"
  },
  "language_info": {
   "codemirror_mode": {
    "name": "ipython",
    "version": 3
   },
   "file_extension": ".py",
   "mimetype": "text/x-python",
   "name": "python",
   "nbconvert_exporter": "python",
   "pygments_lexer": "ipython3",
   "version": "3.8.8"
  }
 },
 "nbformat": 4,
 "nbformat_minor": 5
}
